{
 "cells": [
  {
   "cell_type": "markdown",
   "id": "a8c15181",
   "metadata": {},
   "source": [
    "### Функции all и any\n",
    "\n",
    "Когда требуется осуществить длинное логическое И/ИЛИ с целевой последовательностью булевых значений, используются функции all и any. Они работают с любыми итерируемыми объектами, а значит, их улобно использовать вкупе с генераторами.\n",
    "\n",
    "Допустим, у студента-биолога два набора отрезков матричных РНК. Он хочет определить, во всех ли отрезках есь кодон метионина - триплет нуклеотидных остатков, который кодирует аминокислоту метионин."
   ]
  },
  {
   "cell_type": "code",
   "execution_count": 1,
   "id": "72c74d49",
   "metadata": {},
   "outputs": [],
   "source": [
    "methionine_code = \"AUG\"\n",
    "A = [\"GCAAUGGCA\", \"GCAGUAAAU\", \"CGAACCAGU\"]\n",
    "B = [\"AUGGCAGCA\", \"GCAUGAAAU\", \"CGAACCAUG\"]"
   ]
  },
  {
   "cell_type": "code",
   "execution_count": 2,
   "id": "01b1a4e0",
   "metadata": {},
   "outputs": [
    {
     "data": {
      "text/plain": [
       "False"
      ]
     },
     "execution_count": 2,
     "metadata": {},
     "output_type": "execute_result"
    }
   ],
   "source": [
    "all(methionine_code in gene for gene in A)"
   ]
  },
  {
   "cell_type": "code",
   "execution_count": 3,
   "id": "c9460746",
   "metadata": {},
   "outputs": [
    {
     "data": {
      "text/plain": [
       "True"
      ]
     },
     "execution_count": 3,
     "metadata": {},
     "output_type": "execute_result"
    }
   ],
   "source": [
    "all(methionine_code in gene for gene in B)"
   ]
  },
  {
   "cell_type": "markdown",
   "id": "a2ca23e6",
   "metadata": {},
   "source": [
    "А теперь его задача узнать, есть ли кодон метионина хоть в каком-нибудь отрезке из набора:"
   ]
  },
  {
   "cell_type": "code",
   "execution_count": 4,
   "id": "1bd7a5c0",
   "metadata": {},
   "outputs": [
    {
     "data": {
      "text/plain": [
       "True"
      ]
     },
     "execution_count": 4,
     "metadata": {},
     "output_type": "execute_result"
    }
   ],
   "source": [
    "any(methionine_code in gene for gene in A)"
   ]
  },
  {
   "cell_type": "code",
   "execution_count": 5,
   "id": "53d06b14",
   "metadata": {},
   "outputs": [
    {
     "data": {
      "text/plain": [
       "True"
      ]
     },
     "execution_count": 5,
     "metadata": {},
     "output_type": "execute_result"
    }
   ],
   "source": [
    "any(methionine_code in gene for gene in B)"
   ]
  },
  {
   "cell_type": "markdown",
   "id": "7dc360b0",
   "metadata": {},
   "source": [
    "### NumPy и логические выражения"
   ]
  },
  {
   "cell_type": "markdown",
   "id": "6ce877f8",
   "metadata": {},
   "source": [
    "### Векторные и логические операции\n",
    "\n",
    "Как вы уже знаете, операции с массивами NumPy векторные, то есть они выполняются сразу со асеми элементами массива. Это касается не только домножений на число и применений функций NumPy, но и логических операций:"
   ]
  },
  {
   "cell_type": "code",
   "execution_count": 6,
   "id": "f71787a7",
   "metadata": {},
   "outputs": [
    {
     "name": "stdout",
     "output_type": "stream",
     "text": [
      "[[10 53 61 23]\n",
      " [66 12 63 63]\n",
      " [36 77 91 82]]\n",
      "\n",
      "[[False  True  True False]\n",
      " [ True False  True  True]\n",
      " [False  True  True  True]]\n"
     ]
    }
   ],
   "source": [
    "import numpy as np\n",
    "A = np.array([10, 53, 61, 23, 66, 12, 63, 63, 36, 77, 91, 82]).reshape(3, 4)\n",
    "print(A)\n",
    "print()\n",
    "print(A > 50) # Проверяет каждое число в матрице"
   ]
  },
  {
   "cell_type": "code",
   "execution_count": 7,
   "id": "6671ab53",
   "metadata": {},
   "outputs": [
    {
     "name": "stdout",
     "output_type": "stream",
     "text": [
      "[[10 53 61 23]\n",
      " [66 12 63 63]\n",
      " [36 77 91 82]]\n",
      "[[ 10 530 610  23]\n",
      " [660  12 630 630]\n",
      " [ 36 770 910 820]]\n"
     ]
    }
   ],
   "source": [
    "B = A.copy()\n",
    "print(B)\n",
    "B[B > 50] *= 10\n",
    "print(B)"
   ]
  },
  {
   "cell_type": "code",
   "execution_count": 8,
   "id": "8d2588ec",
   "metadata": {},
   "outputs": [
    {
     "name": "stdout",
     "output_type": "stream",
     "text": [
      "[[ 10 -53 -61  23]\n",
      " [-66  12 -63 -63]\n",
      " [ 36 -77 -91 -82]]\n"
     ]
    }
   ],
   "source": [
    "B = A.copy()\n",
    "B[B > 50] *= -1 # Домножит на минус 1.\n",
    "print(B)"
   ]
  },
  {
   "cell_type": "markdown",
   "id": "f1e8768a",
   "metadata": {},
   "source": [
    "### Логические операции с логическими массивами NumPy\n",
    "\n",
    "Раз массивы логических значений так удобны, стоит узнать как осуществлять с ними массовые, векторные логические операции. Создадим два логических массива для экспериментов:"
   ]
  },
  {
   "cell_type": "code",
   "execution_count": 9,
   "id": "3a9d0529",
   "metadata": {},
   "outputs": [],
   "source": [
    "A = np.array([False, False, True, True])\n",
    "B = np.array([False, True, False,True])"
   ]
  },
  {
   "cell_type": "markdown",
   "id": "c019257b",
   "metadata": {},
   "source": [
    "Однако логические операции and, or и not с массивами NumPy не работают!"
   ]
  },
  {
   "cell_type": "code",
   "execution_count": 10,
   "id": "8a65c997",
   "metadata": {},
   "outputs": [
    {
     "ename": "ValueError",
     "evalue": "The truth value of an array with more than one element is ambiguous. Use a.any() or a.all()",
     "output_type": "error",
     "traceback": [
      "\u001b[1;31m---------------------------------------------------------------------------\u001b[0m",
      "\u001b[1;31mValueError\u001b[0m                                Traceback (most recent call last)",
      "Cell \u001b[1;32mIn[10], line 1\u001b[0m\n\u001b[1;32m----> 1\u001b[0m A \u001b[38;5;129;01mand\u001b[39;00m B\n",
      "\u001b[1;31mValueError\u001b[0m: The truth value of an array with more than one element is ambiguous. Use a.any() or a.all()"
     ]
    }
   ],
   "source": [
    "A and B"
   ]
  },
  {
   "cell_type": "markdown",
   "id": "47d7eb91",
   "metadata": {},
   "source": [
    "Зато работают &, |, ~: (AND, OR, NOT)"
   ]
  },
  {
   "cell_type": "code",
   "execution_count": null,
   "id": "1742e774",
   "metadata": {},
   "outputs": [],
   "source": [
    "print(A)\n",
    "print(B)"
   ]
  },
  {
   "cell_type": "code",
   "execution_count": null,
   "id": "3d96559b",
   "metadata": {},
   "outputs": [],
   "source": [
    "print(A & B)"
   ]
  },
  {
   "cell_type": "code",
   "execution_count": null,
   "id": "7105f92f",
   "metadata": {},
   "outputs": [],
   "source": [
    "print(A | B)"
   ]
  },
  {
   "cell_type": "code",
   "execution_count": null,
   "id": "ae07aa1d",
   "metadata": {},
   "outputs": [],
   "source": [
    "print(A)\n",
    "print(~A)"
   ]
  },
  {
   "cell_type": "code",
   "execution_count": null,
   "id": "4f9e4343",
   "metadata": {},
   "outputs": [],
   "source": []
  },
  {
   "cell_type": "markdown",
   "id": "06307c4e",
   "metadata": {},
   "source": [
    "### Редукция массивов NumPy методами any и all\n",
    "\n",
    "Для редукции логического массива лучше пользоваться не стандартными all и any, а аналогичными методами массива:"
   ]
  },
  {
   "cell_type": "code",
   "execution_count": null,
   "id": "7ef482a4",
   "metadata": {},
   "outputs": [],
   "source": [
    "logical_array = np.random.rand(4, 5) < 0.5"
   ]
  },
  {
   "cell_type": "code",
   "execution_count": null,
   "id": "21c7b58c",
   "metadata": {},
   "outputs": [],
   "source": [
    "print(logical_array)"
   ]
  },
  {
   "cell_type": "code",
   "execution_count": null,
   "id": "733b0390",
   "metadata": {},
   "outputs": [],
   "source": [
    "logical_array.any()"
   ]
  },
  {
   "cell_type": "code",
   "execution_count": null,
   "id": "0b1fa195",
   "metadata": {},
   "outputs": [],
   "source": [
    "any(logical_array)"
   ]
  },
  {
   "cell_type": "markdown",
   "id": "75ef989b",
   "metadata": {},
   "source": [
    "При этом в NumPy можно провести редукцию логического массива по конкретной оси!\n",
    "Для этого в параметре метода укажем индекс оси:"
   ]
  },
  {
   "cell_type": "code",
   "execution_count": null,
   "id": "3ee3bad6",
   "metadata": {},
   "outputs": [],
   "source": [
    "logical_array.any(0)"
   ]
  },
  {
   "cell_type": "code",
   "execution_count": null,
   "id": "aeaf33ab",
   "metadata": {},
   "outputs": [],
   "source": [
    "logical_array.all(1)"
   ]
  },
  {
   "cell_type": "code",
   "execution_count": null,
   "id": "ebf1ad4d",
   "metadata": {},
   "outputs": [],
   "source": [
    "logical_array[0]"
   ]
  },
  {
   "cell_type": "code",
   "execution_count": null,
   "id": "6458f93b",
   "metadata": {},
   "outputs": [],
   "source": [
    "logical_array[1]"
   ]
  },
  {
   "cell_type": "code",
   "execution_count": null,
   "id": "300efa9a",
   "metadata": {},
   "outputs": [],
   "source": []
  },
  {
   "cell_type": "markdown",
   "id": "9a7f2519",
   "metadata": {},
   "source": [
    "## Основы работы с данными в Pandas\n",
    "\n",
    "Pandas - популярная библиотека для работы с табличными данными различных типов. С её помощью загрузка файла в формате CSV или LSX становитя примитивной:"
   ]
  },
  {
   "cell_type": "code",
   "execution_count": 1,
   "id": "3c4bc3eb",
   "metadata": {},
   "outputs": [],
   "source": [
    "import pandas as pd"
   ]
  },
  {
   "cell_type": "code",
   "execution_count": 2,
   "id": "a4cc8d46",
   "metadata": {},
   "outputs": [],
   "source": [
    "data = pd.read_csv(\"zonnin.csv\", sep=\";\")"
   ]
  },
  {
   "cell_type": "markdown",
   "id": "22c3d543",
   "metadata": {},
   "source": [
    "Что за тип у объекта, который хранит считанные из файла данные?"
   ]
  },
  {
   "cell_type": "code",
   "execution_count": 3,
   "id": "3b209180",
   "metadata": {},
   "outputs": [
    {
     "data": {
      "text/plain": [
       "pandas.core.frame.DataFrame"
      ]
     },
     "execution_count": 3,
     "metadata": {},
     "output_type": "execute_result"
    }
   ],
   "source": [
    "type(data)"
   ]
  },
  {
   "cell_type": "markdown",
   "id": "acb81950",
   "metadata": {},
   "source": [
    "DataFrame - основной тип библиотеки Pandas, и почти все операции над листом с данными будут осуществлятся через его методы.\n",
    "\n",
    "Размеры лисста хранятся в аттрибуте shape:"
   ]
  },
  {
   "cell_type": "code",
   "execution_count": 4,
   "id": "6a53536b",
   "metadata": {},
   "outputs": [
    {
     "data": {
      "text/plain": [
       "(19, 3)"
      ]
     },
     "execution_count": 4,
     "metadata": {},
     "output_type": "execute_result"
    }
   ],
   "source": [
    "data.shape"
   ]
  },
  {
   "cell_type": "markdown",
   "id": "b02b74c5",
   "metadata": {},
   "source": [
    "### Знакомство с данными\n",
    "\n",
    "После того, как вы открыли файл, нужно познакомится с данными. Для этого есть  несколько путей.\n",
    "\n",
    "Посмтреть на несколько первых строк:"
   ]
  },
  {
   "cell_type": "code",
   "execution_count": 5,
   "id": "b2af50c1",
   "metadata": {},
   "outputs": [
    {
     "data": {
      "text/html": [
       "<div>\n",
       "<style scoped>\n",
       "    .dataframe tbody tr th:only-of-type {\n",
       "        vertical-align: middle;\n",
       "    }\n",
       "\n",
       "    .dataframe tbody tr th {\n",
       "        vertical-align: top;\n",
       "    }\n",
       "\n",
       "    .dataframe thead th {\n",
       "        text-align: right;\n",
       "    }\n",
       "</style>\n",
       "<table border=\"1\" class=\"dataframe\">\n",
       "  <thead>\n",
       "    <tr style=\"text-align: right;\">\n",
       "      <th></th>\n",
       "      <th>nStxsESil2gjjAyDL</th>\n",
       "      <th>zgR0GfHKcloEJ</th>\n",
       "      <th>mrCncaaxdDtZXWoWfAtWlxE</th>\n",
       "    </tr>\n",
       "  </thead>\n",
       "  <tbody>\n",
       "    <tr>\n",
       "      <th>0</th>\n",
       "      <td>rzVpnMZu4IzIybaeEuknQwyx43Cj</td>\n",
       "      <td>iX2D1dVE7BcLxXwrFMHGpN</td>\n",
       "      <td>t4qqzz6wkIC</td>\n",
       "    </tr>\n",
       "    <tr>\n",
       "      <th>1</th>\n",
       "      <td>nFBEMsHeFmRTAewnv3OtylqI43FQ</td>\n",
       "      <td>dfDq8FB5jbD1YBl</td>\n",
       "      <td>jFOLYeG9oEPpomuLVF4</td>\n",
       "    </tr>\n",
       "    <tr>\n",
       "      <th>2</th>\n",
       "      <td>dwZfgUChhiwiC03CQBmIpm4E9Tb3</td>\n",
       "      <td>uhECHfGB654NcGm6mcyuR1qqE3NG</td>\n",
       "      <td>eX5O5LKxqSLqu2xzmQ2h4YjTNdnD</td>\n",
       "    </tr>\n",
       "    <tr>\n",
       "      <th>3</th>\n",
       "      <td>nHHBPVbKPatybjOHiLmc2fU1Na7Gy</td>\n",
       "      <td>tL7xsXNtQ27QYSYH2QD</td>\n",
       "      <td>x2esb9EzPo0X</td>\n",
       "    </tr>\n",
       "    <tr>\n",
       "      <th>4</th>\n",
       "      <td>b9xIGBeYwb1sQYvZ7CQsCQLYM</td>\n",
       "      <td>qG7E6gM4qGaCys08ivb</td>\n",
       "      <td>k5scIsblduzFwkGjEPUM0</td>\n",
       "    </tr>\n",
       "    <tr>\n",
       "      <th>5</th>\n",
       "      <td>y0uBPcGjg4mToRNBwj7Zx</td>\n",
       "      <td>pxc9Kvazm9ZfcmZNfqamP9jTYmy</td>\n",
       "      <td>uBJ7a81Xh7tOzR</td>\n",
       "    </tr>\n",
       "    <tr>\n",
       "      <th>6</th>\n",
       "      <td>rUfIeiQTXoLkZI1MZL</td>\n",
       "      <td>geiHPbUKWoR2VtdS</td>\n",
       "      <td>abT5rF1J52VydjalTgSkLJo</td>\n",
       "    </tr>\n",
       "    <tr>\n",
       "      <th>7</th>\n",
       "      <td>pyr1vNvsALZE</td>\n",
       "      <td>u1Ko8bhCb9qg68UMAtsccw</td>\n",
       "      <td>e5wKPUztLp7304fYoMfbyvM</td>\n",
       "    </tr>\n",
       "    <tr>\n",
       "      <th>8</th>\n",
       "      <td>eetOKOIa1bntdci71m</td>\n",
       "      <td>gHDmLw78k49</td>\n",
       "      <td>fuNVDHFwvNPzZ0N52tm4Treoz1n</td>\n",
       "    </tr>\n",
       "    <tr>\n",
       "      <th>9</th>\n",
       "      <td>qEC1bQLzmww8DTXlUrxY1wlOgw3P</td>\n",
       "      <td>qZJ8PEsWBiBZM2zwe</td>\n",
       "      <td>x77xWxh3xbw55creBn</td>\n",
       "    </tr>\n",
       "    <tr>\n",
       "      <th>10</th>\n",
       "      <td>mwjrwe6jvj7LGTHStD00kJuzOnyIJB</td>\n",
       "      <td>d2RPYrmrXtKleCyEWfmnEVm</td>\n",
       "      <td>jYwlcsVyTJL0ACfZVYG2b</td>\n",
       "    </tr>\n",
       "    <tr>\n",
       "      <th>11</th>\n",
       "      <td>bWM7XzNVTfz6qiUBr7ze9Ms2Jn9v</td>\n",
       "      <td>p7neBvjSh8Wi9PEVZ0xqoCno</td>\n",
       "      <td>g7hnL89Urkboj4amV4</td>\n",
       "    </tr>\n",
       "    <tr>\n",
       "      <th>12</th>\n",
       "      <td>wF7bOIAD79QTHl5Mm8u0aOe7MbJ6rH</td>\n",
       "      <td>g3l2fBndaj</td>\n",
       "      <td>z71MwMISQ7</td>\n",
       "    </tr>\n",
       "    <tr>\n",
       "      <th>13</th>\n",
       "      <td>xiBE11weQsV4b8Rws3BjH</td>\n",
       "      <td>dGc1vszOo6GpANlBF</td>\n",
       "      <td>dYlP2uJksuYRHbMhypQvp1</td>\n",
       "    </tr>\n",
       "    <tr>\n",
       "      <th>14</th>\n",
       "      <td>gecnQtNpey5iIDzKZlN7Vnay</td>\n",
       "      <td>idCoPFM5jcshWESgh9tWpdxp0</td>\n",
       "      <td>tu6aUnYdShFGuDCNWLJ9c8sx</td>\n",
       "    </tr>\n",
       "    <tr>\n",
       "      <th>15</th>\n",
       "      <td>wRjhPZ3O5k739Wt7224ozpm12lCP</td>\n",
       "      <td>inGef8W5O9g5jBIrRZ169Xfc</td>\n",
       "      <td>f9Meh2L9JlrPeB114EBrI29A3V6Tz</td>\n",
       "    </tr>\n",
       "    <tr>\n",
       "      <th>16</th>\n",
       "      <td>mk5Yc6nQPx5</td>\n",
       "      <td>aVzoSUd7O7BvNuHoRzSTfOKS</td>\n",
       "      <td>hR0gkDXJtbAw</td>\n",
       "    </tr>\n",
       "    <tr>\n",
       "      <th>17</th>\n",
       "      <td>bvUt0ZG8ft7n7XztlTy9em</td>\n",
       "      <td>csojAmGsMjOqHGGFtZ</td>\n",
       "      <td>jDarL9jI30wS0WkvJ1Bg</td>\n",
       "    </tr>\n",
       "    <tr>\n",
       "      <th>18</th>\n",
       "      <td>lcRKpGiTFJg6It8pHIt85</td>\n",
       "      <td>pLClVRLqfIxYhgka5OpVuxkbKEllw</td>\n",
       "      <td>lIne0MYKnnOb3tSXatUpO3Xxf</td>\n",
       "    </tr>\n",
       "  </tbody>\n",
       "</table>\n",
       "</div>"
      ],
      "text/plain": [
       "                 nStxsESil2gjjAyDL                  zgR0GfHKcloEJ  \\\n",
       "0     rzVpnMZu4IzIybaeEuknQwyx43Cj         iX2D1dVE7BcLxXwrFMHGpN   \n",
       "1     nFBEMsHeFmRTAewnv3OtylqI43FQ                dfDq8FB5jbD1YBl   \n",
       "2     dwZfgUChhiwiC03CQBmIpm4E9Tb3   uhECHfGB654NcGm6mcyuR1qqE3NG   \n",
       "3    nHHBPVbKPatybjOHiLmc2fU1Na7Gy            tL7xsXNtQ27QYSYH2QD   \n",
       "4        b9xIGBeYwb1sQYvZ7CQsCQLYM            qG7E6gM4qGaCys08ivb   \n",
       "5            y0uBPcGjg4mToRNBwj7Zx    pxc9Kvazm9ZfcmZNfqamP9jTYmy   \n",
       "6               rUfIeiQTXoLkZI1MZL               geiHPbUKWoR2VtdS   \n",
       "7                     pyr1vNvsALZE         u1Ko8bhCb9qg68UMAtsccw   \n",
       "8               eetOKOIa1bntdci71m                    gHDmLw78k49   \n",
       "9     qEC1bQLzmww8DTXlUrxY1wlOgw3P              qZJ8PEsWBiBZM2zwe   \n",
       "10  mwjrwe6jvj7LGTHStD00kJuzOnyIJB        d2RPYrmrXtKleCyEWfmnEVm   \n",
       "11    bWM7XzNVTfz6qiUBr7ze9Ms2Jn9v       p7neBvjSh8Wi9PEVZ0xqoCno   \n",
       "12  wF7bOIAD79QTHl5Mm8u0aOe7MbJ6rH                     g3l2fBndaj   \n",
       "13           xiBE11weQsV4b8Rws3BjH              dGc1vszOo6GpANlBF   \n",
       "14        gecnQtNpey5iIDzKZlN7Vnay      idCoPFM5jcshWESgh9tWpdxp0   \n",
       "15    wRjhPZ3O5k739Wt7224ozpm12lCP       inGef8W5O9g5jBIrRZ169Xfc   \n",
       "16                     mk5Yc6nQPx5       aVzoSUd7O7BvNuHoRzSTfOKS   \n",
       "17          bvUt0ZG8ft7n7XztlTy9em             csojAmGsMjOqHGGFtZ   \n",
       "18           lcRKpGiTFJg6It8pHIt85  pLClVRLqfIxYhgka5OpVuxkbKEllw   \n",
       "\n",
       "          mrCncaaxdDtZXWoWfAtWlxE  \n",
       "0                     t4qqzz6wkIC  \n",
       "1             jFOLYeG9oEPpomuLVF4  \n",
       "2    eX5O5LKxqSLqu2xzmQ2h4YjTNdnD  \n",
       "3                    x2esb9EzPo0X  \n",
       "4           k5scIsblduzFwkGjEPUM0  \n",
       "5                  uBJ7a81Xh7tOzR  \n",
       "6         abT5rF1J52VydjalTgSkLJo  \n",
       "7         e5wKPUztLp7304fYoMfbyvM  \n",
       "8     fuNVDHFwvNPzZ0N52tm4Treoz1n  \n",
       "9              x77xWxh3xbw55creBn  \n",
       "10          jYwlcsVyTJL0ACfZVYG2b  \n",
       "11             g7hnL89Urkboj4amV4  \n",
       "12                     z71MwMISQ7  \n",
       "13         dYlP2uJksuYRHbMhypQvp1  \n",
       "14       tu6aUnYdShFGuDCNWLJ9c8sx  \n",
       "15  f9Meh2L9JlrPeB114EBrI29A3V6Tz  \n",
       "16                   hR0gkDXJtbAw  \n",
       "17           jDarL9jI30wS0WkvJ1Bg  \n",
       "18      lIne0MYKnnOb3tSXatUpO3Xxf  "
      ]
     },
     "execution_count": 5,
     "metadata": {},
     "output_type": "execute_result"
    }
   ],
   "source": [
    "data"
   ]
  },
  {
   "cell_type": "code",
   "execution_count": 6,
   "id": "043fa884",
   "metadata": {},
   "outputs": [
    {
     "data": {
      "text/html": [
       "<div>\n",
       "<style scoped>\n",
       "    .dataframe tbody tr th:only-of-type {\n",
       "        vertical-align: middle;\n",
       "    }\n",
       "\n",
       "    .dataframe tbody tr th {\n",
       "        vertical-align: top;\n",
       "    }\n",
       "\n",
       "    .dataframe thead th {\n",
       "        text-align: right;\n",
       "    }\n",
       "</style>\n",
       "<table border=\"1\" class=\"dataframe\">\n",
       "  <thead>\n",
       "    <tr style=\"text-align: right;\">\n",
       "      <th></th>\n",
       "      <th>nStxsESil2gjjAyDL</th>\n",
       "      <th>zgR0GfHKcloEJ</th>\n",
       "      <th>mrCncaaxdDtZXWoWfAtWlxE</th>\n",
       "    </tr>\n",
       "  </thead>\n",
       "  <tbody>\n",
       "    <tr>\n",
       "      <th>0</th>\n",
       "      <td>rzVpnMZu4IzIybaeEuknQwyx43Cj</td>\n",
       "      <td>iX2D1dVE7BcLxXwrFMHGpN</td>\n",
       "      <td>t4qqzz6wkIC</td>\n",
       "    </tr>\n",
       "    <tr>\n",
       "      <th>1</th>\n",
       "      <td>nFBEMsHeFmRTAewnv3OtylqI43FQ</td>\n",
       "      <td>dfDq8FB5jbD1YBl</td>\n",
       "      <td>jFOLYeG9oEPpomuLVF4</td>\n",
       "    </tr>\n",
       "    <tr>\n",
       "      <th>2</th>\n",
       "      <td>dwZfgUChhiwiC03CQBmIpm4E9Tb3</td>\n",
       "      <td>uhECHfGB654NcGm6mcyuR1qqE3NG</td>\n",
       "      <td>eX5O5LKxqSLqu2xzmQ2h4YjTNdnD</td>\n",
       "    </tr>\n",
       "    <tr>\n",
       "      <th>3</th>\n",
       "      <td>nHHBPVbKPatybjOHiLmc2fU1Na7Gy</td>\n",
       "      <td>tL7xsXNtQ27QYSYH2QD</td>\n",
       "      <td>x2esb9EzPo0X</td>\n",
       "    </tr>\n",
       "    <tr>\n",
       "      <th>4</th>\n",
       "      <td>b9xIGBeYwb1sQYvZ7CQsCQLYM</td>\n",
       "      <td>qG7E6gM4qGaCys08ivb</td>\n",
       "      <td>k5scIsblduzFwkGjEPUM0</td>\n",
       "    </tr>\n",
       "    <tr>\n",
       "      <th>5</th>\n",
       "      <td>y0uBPcGjg4mToRNBwj7Zx</td>\n",
       "      <td>pxc9Kvazm9ZfcmZNfqamP9jTYmy</td>\n",
       "      <td>uBJ7a81Xh7tOzR</td>\n",
       "    </tr>\n",
       "  </tbody>\n",
       "</table>\n",
       "</div>"
      ],
      "text/plain": [
       "               nStxsESil2gjjAyDL                 zgR0GfHKcloEJ  \\\n",
       "0   rzVpnMZu4IzIybaeEuknQwyx43Cj        iX2D1dVE7BcLxXwrFMHGpN   \n",
       "1   nFBEMsHeFmRTAewnv3OtylqI43FQ               dfDq8FB5jbD1YBl   \n",
       "2   dwZfgUChhiwiC03CQBmIpm4E9Tb3  uhECHfGB654NcGm6mcyuR1qqE3NG   \n",
       "3  nHHBPVbKPatybjOHiLmc2fU1Na7Gy           tL7xsXNtQ27QYSYH2QD   \n",
       "4      b9xIGBeYwb1sQYvZ7CQsCQLYM           qG7E6gM4qGaCys08ivb   \n",
       "5          y0uBPcGjg4mToRNBwj7Zx   pxc9Kvazm9ZfcmZNfqamP9jTYmy   \n",
       "\n",
       "        mrCncaaxdDtZXWoWfAtWlxE  \n",
       "0                   t4qqzz6wkIC  \n",
       "1           jFOLYeG9oEPpomuLVF4  \n",
       "2  eX5O5LKxqSLqu2xzmQ2h4YjTNdnD  \n",
       "3                  x2esb9EzPo0X  \n",
       "4         k5scIsblduzFwkGjEPUM0  \n",
       "5                uBJ7a81Xh7tOzR  "
      ]
     },
     "execution_count": 6,
     "metadata": {},
     "output_type": "execute_result"
    }
   ],
   "source": [
    "data.head(6) # Первые строки (по ум. 4)"
   ]
  },
  {
   "cell_type": "code",
   "execution_count": 7,
   "id": "0cb20e9b",
   "metadata": {},
   "outputs": [
    {
     "data": {
      "text/html": [
       "<div>\n",
       "<style scoped>\n",
       "    .dataframe tbody tr th:only-of-type {\n",
       "        vertical-align: middle;\n",
       "    }\n",
       "\n",
       "    .dataframe tbody tr th {\n",
       "        vertical-align: top;\n",
       "    }\n",
       "\n",
       "    .dataframe thead th {\n",
       "        text-align: right;\n",
       "    }\n",
       "</style>\n",
       "<table border=\"1\" class=\"dataframe\">\n",
       "  <thead>\n",
       "    <tr style=\"text-align: right;\">\n",
       "      <th></th>\n",
       "      <th>nStxsESil2gjjAyDL</th>\n",
       "      <th>zgR0GfHKcloEJ</th>\n",
       "      <th>mrCncaaxdDtZXWoWfAtWlxE</th>\n",
       "    </tr>\n",
       "  </thead>\n",
       "  <tbody>\n",
       "    <tr>\n",
       "      <th>14</th>\n",
       "      <td>gecnQtNpey5iIDzKZlN7Vnay</td>\n",
       "      <td>idCoPFM5jcshWESgh9tWpdxp0</td>\n",
       "      <td>tu6aUnYdShFGuDCNWLJ9c8sx</td>\n",
       "    </tr>\n",
       "    <tr>\n",
       "      <th>15</th>\n",
       "      <td>wRjhPZ3O5k739Wt7224ozpm12lCP</td>\n",
       "      <td>inGef8W5O9g5jBIrRZ169Xfc</td>\n",
       "      <td>f9Meh2L9JlrPeB114EBrI29A3V6Tz</td>\n",
       "    </tr>\n",
       "    <tr>\n",
       "      <th>16</th>\n",
       "      <td>mk5Yc6nQPx5</td>\n",
       "      <td>aVzoSUd7O7BvNuHoRzSTfOKS</td>\n",
       "      <td>hR0gkDXJtbAw</td>\n",
       "    </tr>\n",
       "    <tr>\n",
       "      <th>17</th>\n",
       "      <td>bvUt0ZG8ft7n7XztlTy9em</td>\n",
       "      <td>csojAmGsMjOqHGGFtZ</td>\n",
       "      <td>jDarL9jI30wS0WkvJ1Bg</td>\n",
       "    </tr>\n",
       "    <tr>\n",
       "      <th>18</th>\n",
       "      <td>lcRKpGiTFJg6It8pHIt85</td>\n",
       "      <td>pLClVRLqfIxYhgka5OpVuxkbKEllw</td>\n",
       "      <td>lIne0MYKnnOb3tSXatUpO3Xxf</td>\n",
       "    </tr>\n",
       "  </tbody>\n",
       "</table>\n",
       "</div>"
      ],
      "text/plain": [
       "               nStxsESil2gjjAyDL                  zgR0GfHKcloEJ  \\\n",
       "14      gecnQtNpey5iIDzKZlN7Vnay      idCoPFM5jcshWESgh9tWpdxp0   \n",
       "15  wRjhPZ3O5k739Wt7224ozpm12lCP       inGef8W5O9g5jBIrRZ169Xfc   \n",
       "16                   mk5Yc6nQPx5       aVzoSUd7O7BvNuHoRzSTfOKS   \n",
       "17        bvUt0ZG8ft7n7XztlTy9em             csojAmGsMjOqHGGFtZ   \n",
       "18         lcRKpGiTFJg6It8pHIt85  pLClVRLqfIxYhgka5OpVuxkbKEllw   \n",
       "\n",
       "          mrCncaaxdDtZXWoWfAtWlxE  \n",
       "14       tu6aUnYdShFGuDCNWLJ9c8sx  \n",
       "15  f9Meh2L9JlrPeB114EBrI29A3V6Tz  \n",
       "16                   hR0gkDXJtbAw  \n",
       "17           jDarL9jI30wS0WkvJ1Bg  \n",
       "18      lIne0MYKnnOb3tSXatUpO3Xxf  "
      ]
     },
     "execution_count": 7,
     "metadata": {},
     "output_type": "execute_result"
    }
   ],
   "source": [
    "data.tail() # Последние строки"
   ]
  },
  {
   "cell_type": "markdown",
   "id": "8a8bc36b",
   "metadata": {},
   "source": [
    "Узнать подробную информацию о названиях и типах данных в столбцах:"
   ]
  },
  {
   "cell_type": "code",
   "execution_count": 8,
   "id": "4ddbc52d",
   "metadata": {},
   "outputs": [
    {
     "name": "stdout",
     "output_type": "stream",
     "text": [
      "<class 'pandas.core.frame.DataFrame'>\n",
      "RangeIndex: 19 entries, 0 to 18\n",
      "Data columns (total 3 columns):\n",
      " #   Column                   Non-Null Count  Dtype \n",
      "---  ------                   --------------  ----- \n",
      " 0   nStxsESil2gjjAyDL        19 non-null     object\n",
      " 1   zgR0GfHKcloEJ            19 non-null     object\n",
      " 2   mrCncaaxdDtZXWoWfAtWlxE  19 non-null     object\n",
      "dtypes: object(3)\n",
      "memory usage: 588.0+ bytes\n"
     ]
    }
   ],
   "source": [
    "data.info()"
   ]
  },
  {
   "cell_type": "markdown",
   "id": "34fc5c12",
   "metadata": {},
   "source": [
    "Основные статистические характеристики, описывающие распределение величин в числовых столбцах:"
   ]
  },
  {
   "cell_type": "code",
   "execution_count": 9,
   "id": "1a591cba",
   "metadata": {},
   "outputs": [
    {
     "data": {
      "text/html": [
       "<div>\n",
       "<style scoped>\n",
       "    .dataframe tbody tr th:only-of-type {\n",
       "        vertical-align: middle;\n",
       "    }\n",
       "\n",
       "    .dataframe tbody tr th {\n",
       "        vertical-align: top;\n",
       "    }\n",
       "\n",
       "    .dataframe thead th {\n",
       "        text-align: right;\n",
       "    }\n",
       "</style>\n",
       "<table border=\"1\" class=\"dataframe\">\n",
       "  <thead>\n",
       "    <tr style=\"text-align: right;\">\n",
       "      <th></th>\n",
       "      <th>nStxsESil2gjjAyDL</th>\n",
       "      <th>zgR0GfHKcloEJ</th>\n",
       "      <th>mrCncaaxdDtZXWoWfAtWlxE</th>\n",
       "    </tr>\n",
       "  </thead>\n",
       "  <tbody>\n",
       "    <tr>\n",
       "      <th>count</th>\n",
       "      <td>19</td>\n",
       "      <td>19</td>\n",
       "      <td>19</td>\n",
       "    </tr>\n",
       "    <tr>\n",
       "      <th>unique</th>\n",
       "      <td>19</td>\n",
       "      <td>19</td>\n",
       "      <td>19</td>\n",
       "    </tr>\n",
       "    <tr>\n",
       "      <th>top</th>\n",
       "      <td>rzVpnMZu4IzIybaeEuknQwyx43Cj</td>\n",
       "      <td>iX2D1dVE7BcLxXwrFMHGpN</td>\n",
       "      <td>t4qqzz6wkIC</td>\n",
       "    </tr>\n",
       "    <tr>\n",
       "      <th>freq</th>\n",
       "      <td>1</td>\n",
       "      <td>1</td>\n",
       "      <td>1</td>\n",
       "    </tr>\n",
       "  </tbody>\n",
       "</table>\n",
       "</div>"
      ],
      "text/plain": [
       "                   nStxsESil2gjjAyDL           zgR0GfHKcloEJ  \\\n",
       "count                             19                      19   \n",
       "unique                            19                      19   \n",
       "top     rzVpnMZu4IzIybaeEuknQwyx43Cj  iX2D1dVE7BcLxXwrFMHGpN   \n",
       "freq                               1                       1   \n",
       "\n",
       "       mrCncaaxdDtZXWoWfAtWlxE  \n",
       "count                       19  \n",
       "unique                      19  \n",
       "top                t4qqzz6wkIC  \n",
       "freq                         1  "
      ]
     },
     "execution_count": 9,
     "metadata": {},
     "output_type": "execute_result"
    }
   ],
   "source": [
    "data.describe()"
   ]
  },
  {
   "cell_type": "code",
   "execution_count": null,
   "id": "33ab42bb",
   "metadata": {},
   "outputs": [],
   "source": []
  },
  {
   "cell_type": "markdown",
   "id": "31bff13c",
   "metadata": {},
   "source": [
    "### Серии данных в конкретном столбце\n",
    "\n",
    "Для дальнейшей работы с данными нам понадобится список столбцов. Обратите внимание, что это не метод, а просто атрибут листа с данными, а значит columns не нужно вызывать с круглыми скобками:"
   ]
  },
  {
   "cell_type": "code",
   "execution_count": 10,
   "id": "a2730d7e",
   "metadata": {},
   "outputs": [
    {
     "data": {
      "text/plain": [
       "Index(['nStxsESil2gjjAyDL', 'zgR0GfHKcloEJ', 'mrCncaaxdDtZXWoWfAtWlxE'], dtype='object')"
      ]
     },
     "execution_count": 10,
     "metadata": {},
     "output_type": "execute_result"
    }
   ],
   "source": [
    "data.columns"
   ]
  },
  {
   "cell_type": "code",
   "execution_count": 11,
   "id": "e9e6ba0a",
   "metadata": {},
   "outputs": [],
   "source": [
    "data = pd.read_csv(\"IndiaCovidCasesByStateUT.csv\")"
   ]
  },
  {
   "cell_type": "code",
   "execution_count": 12,
   "id": "669f2f59",
   "metadata": {},
   "outputs": [
    {
     "data": {
      "text/html": [
       "<div>\n",
       "<style scoped>\n",
       "    .dataframe tbody tr th:only-of-type {\n",
       "        vertical-align: middle;\n",
       "    }\n",
       "\n",
       "    .dataframe tbody tr th {\n",
       "        vertical-align: top;\n",
       "    }\n",
       "\n",
       "    .dataframe thead th {\n",
       "        text-align: right;\n",
       "    }\n",
       "</style>\n",
       "<table border=\"1\" class=\"dataframe\">\n",
       "  <thead>\n",
       "    <tr style=\"text-align: right;\">\n",
       "      <th></th>\n",
       "      <th>State/UTs</th>\n",
       "      <th>Total Cases</th>\n",
       "      <th>Active</th>\n",
       "      <th>Discharged</th>\n",
       "      <th>Deaths</th>\n",
       "      <th>Active Ratio</th>\n",
       "      <th>Discharge Ratio</th>\n",
       "      <th>Death Ratio</th>\n",
       "    </tr>\n",
       "  </thead>\n",
       "  <tbody>\n",
       "    <tr>\n",
       "      <th>0</th>\n",
       "      <td>Maharashtra</td>\n",
       "      <td>81,70,24113</td>\n",
       "      <td>1061</td>\n",
       "      <td>80,21,57912</td>\n",
       "      <td>1,48,556</td>\n",
       "      <td>0.00%</td>\n",
       "      <td>98.18%</td>\n",
       "      <td>1.82%</td>\n",
       "    </tr>\n",
       "    <tr>\n",
       "      <th>1</th>\n",
       "      <td>Kerala</td>\n",
       "      <td>69,07,1283</td>\n",
       "      <td>1,0076</td>\n",
       "      <td>68,34,1759</td>\n",
       "      <td>71946</td>\n",
       "      <td>0.01%</td>\n",
       "      <td>98.94%</td>\n",
       "      <td>1.04%</td>\n",
       "    </tr>\n",
       "    <tr>\n",
       "      <th>2</th>\n",
       "      <td>Karnataka</td>\n",
       "      <td>40,88,7102</td>\n",
       "      <td>181</td>\n",
       "      <td>40,48,3351</td>\n",
       "      <td>40357</td>\n",
       "      <td>0.00%</td>\n",
       "      <td>99.01%</td>\n",
       "      <td>0.99%</td>\n",
       "    </tr>\n",
       "    <tr>\n",
       "      <th>3</th>\n",
       "      <td>Tamil Nadu</td>\n",
       "      <td>36,10,6313</td>\n",
       "      <td>32</td>\n",
       "      <td>35,72,5475</td>\n",
       "      <td>38081</td>\n",
       "      <td>0.00%</td>\n",
       "      <td>98.95%</td>\n",
       "      <td>1.05%</td>\n",
       "    </tr>\n",
       "    <tr>\n",
       "      <th>4</th>\n",
       "      <td>Andhra Pradesh</td>\n",
       "      <td>23,40,674</td>\n",
       "      <td>1</td>\n",
       "      <td>23,25,9411</td>\n",
       "      <td>14733</td>\n",
       "      <td>0%</td>\n",
       "      <td>99.37%</td>\n",
       "      <td>0.63%</td>\n",
       "    </tr>\n",
       "  </tbody>\n",
       "</table>\n",
       "</div>"
      ],
      "text/plain": [
       "        State/UTs  Total Cases  Active   Discharged    Deaths Active Ratio  \\\n",
       "0     Maharashtra  81,70,24113    1061  80,21,57912  1,48,556        0.00%   \n",
       "1          Kerala   69,07,1283  1,0076   68,34,1759     71946        0.01%   \n",
       "2       Karnataka   40,88,7102     181   40,48,3351     40357        0.00%   \n",
       "3      Tamil Nadu   36,10,6313      32   35,72,5475     38081        0.00%   \n",
       "4  Andhra Pradesh    23,40,674       1   23,25,9411     14733           0%   \n",
       "\n",
       "  Discharge Ratio Death Ratio  \n",
       "0          98.18%       1.82%  \n",
       "1          98.94%       1.04%  \n",
       "2          99.01%       0.99%  \n",
       "3          98.95%       1.05%  \n",
       "4          99.37%       0.63%  "
      ]
     },
     "execution_count": 12,
     "metadata": {},
     "output_type": "execute_result"
    }
   ],
   "source": [
    "data.head()"
   ]
  },
  {
   "cell_type": "code",
   "execution_count": 13,
   "id": "06871bd6",
   "metadata": {},
   "outputs": [
    {
     "data": {
      "text/html": [
       "<div>\n",
       "<style scoped>\n",
       "    .dataframe tbody tr th:only-of-type {\n",
       "        vertical-align: middle;\n",
       "    }\n",
       "\n",
       "    .dataframe tbody tr th {\n",
       "        vertical-align: top;\n",
       "    }\n",
       "\n",
       "    .dataframe thead th {\n",
       "        text-align: right;\n",
       "    }\n",
       "</style>\n",
       "<table border=\"1\" class=\"dataframe\">\n",
       "  <thead>\n",
       "    <tr style=\"text-align: right;\">\n",
       "      <th></th>\n",
       "      <th>State/UTs</th>\n",
       "      <th>Total Cases</th>\n",
       "      <th>Active</th>\n",
       "      <th>Discharged</th>\n",
       "      <th>Deaths</th>\n",
       "      <th>Active Ratio</th>\n",
       "      <th>Discharge Ratio</th>\n",
       "      <th>Death Ratio</th>\n",
       "    </tr>\n",
       "  </thead>\n",
       "  <tbody>\n",
       "    <tr>\n",
       "      <th>count</th>\n",
       "      <td>36</td>\n",
       "      <td>36</td>\n",
       "      <td>36</td>\n",
       "      <td>36</td>\n",
       "      <td>36</td>\n",
       "      <td>36</td>\n",
       "      <td>36</td>\n",
       "      <td>36</td>\n",
       "    </tr>\n",
       "    <tr>\n",
       "      <th>unique</th>\n",
       "      <td>36</td>\n",
       "      <td>36</td>\n",
       "      <td>19</td>\n",
       "      <td>36</td>\n",
       "      <td>36</td>\n",
       "      <td>6</td>\n",
       "      <td>32</td>\n",
       "      <td>32</td>\n",
       "    </tr>\n",
       "    <tr>\n",
       "      <th>top</th>\n",
       "      <td>Maharashtra</td>\n",
       "      <td>81,70,24113</td>\n",
       "      <td>0</td>\n",
       "      <td>80,21,57912</td>\n",
       "      <td>1,48,556</td>\n",
       "      <td>0.00%</td>\n",
       "      <td>98.80%</td>\n",
       "      <td>1.20%</td>\n",
       "    </tr>\n",
       "    <tr>\n",
       "      <th>freq</th>\n",
       "      <td>1</td>\n",
       "      <td>1</td>\n",
       "      <td>13</td>\n",
       "      <td>1</td>\n",
       "      <td>1</td>\n",
       "      <td>16</td>\n",
       "      <td>2</td>\n",
       "      <td>2</td>\n",
       "    </tr>\n",
       "  </tbody>\n",
       "</table>\n",
       "</div>"
      ],
      "text/plain": [
       "          State/UTs  Total Cases Active   Discharged    Deaths Active Ratio  \\\n",
       "count            36           36     36           36        36           36   \n",
       "unique           36           36     19           36        36            6   \n",
       "top     Maharashtra  81,70,24113      0  80,21,57912  1,48,556        0.00%   \n",
       "freq              1            1     13            1         1           16   \n",
       "\n",
       "       Discharge Ratio Death Ratio  \n",
       "count               36          36  \n",
       "unique              32          32  \n",
       "top             98.80%       1.20%  \n",
       "freq                 2           2  "
      ]
     },
     "execution_count": 13,
     "metadata": {},
     "output_type": "execute_result"
    }
   ],
   "source": [
    "data.describe()"
   ]
  },
  {
   "cell_type": "code",
   "execution_count": 14,
   "id": "9b2017ab",
   "metadata": {},
   "outputs": [
    {
     "name": "stdout",
     "output_type": "stream",
     "text": [
      "<class 'pandas.core.frame.DataFrame'>\n",
      "RangeIndex: 36 entries, 0 to 35\n",
      "Data columns (total 8 columns):\n",
      " #   Column           Non-Null Count  Dtype \n",
      "---  ------           --------------  ----- \n",
      " 0   State/UTs        36 non-null     object\n",
      " 1   Total Cases      36 non-null     object\n",
      " 2   Active           36 non-null     object\n",
      " 3   Discharged       36 non-null     object\n",
      " 4   Deaths           36 non-null     object\n",
      " 5   Active Ratio     36 non-null     object\n",
      " 6   Discharge Ratio  36 non-null     object\n",
      " 7   Death Ratio      36 non-null     object\n",
      "dtypes: object(8)\n",
      "memory usage: 2.4+ KB\n"
     ]
    }
   ],
   "source": [
    "data.info()"
   ]
  },
  {
   "cell_type": "code",
   "execution_count": 15,
   "id": "15d85eba",
   "metadata": {},
   "outputs": [
    {
     "data": {
      "text/plain": [
       "Index(['State/UTs', 'Total Cases', 'Active', 'Discharged', 'Deaths',\n",
       "       'Active Ratio', 'Discharge Ratio', 'Death Ratio'],\n",
       "      dtype='object')"
      ]
     },
     "execution_count": 15,
     "metadata": {},
     "output_type": "execute_result"
    }
   ],
   "source": [
    "data.columns"
   ]
  },
  {
   "cell_type": "markdown",
   "id": "4c0f99fc",
   "metadata": {},
   "source": [
    "Для того, чтобы получить один столбец из листа, нужно написать имя столбца в кавычках и квадратных скобках:"
   ]
  },
  {
   "cell_type": "code",
   "execution_count": 16,
   "id": "d79fd87b",
   "metadata": {},
   "outputs": [
    {
     "data": {
      "text/plain": [
       "0       1061\n",
       "1     1,0076\n",
       "2        181\n",
       "3         32\n",
       "4          1\n",
       "5        601\n",
       "6       2353\n",
       "7         51\n",
       "8         65\n",
       "9          1\n",
       "10         4\n",
       "11         0\n",
       "12        23\n",
       "13         0\n",
       "14         3\n",
       "15        81\n",
       "16    1,2291\n",
       "17         0\n",
       "18         1\n",
       "19         1\n",
       "20         0\n",
       "21         9\n",
       "22        21\n",
       "23         0\n",
       "24         0\n",
       "25         0\n",
       "26       442\n",
       "27         1\n",
       "28         1\n",
       "29         0\n",
       "30        83\n",
       "31         0\n",
       "32         0\n",
       "33         0\n",
       "34         0\n",
       "35         0\n",
       "Name: Active, dtype: object"
      ]
     },
     "execution_count": 16,
     "metadata": {},
     "output_type": "execute_result"
    }
   ],
   "source": [
    "data['Active']"
   ]
  },
  {
   "cell_type": "code",
   "execution_count": 17,
   "id": "3ad80723",
   "metadata": {},
   "outputs": [
    {
     "data": {
      "text/html": [
       "<div>\n",
       "<style scoped>\n",
       "    .dataframe tbody tr th:only-of-type {\n",
       "        vertical-align: middle;\n",
       "    }\n",
       "\n",
       "    .dataframe tbody tr th {\n",
       "        vertical-align: top;\n",
       "    }\n",
       "\n",
       "    .dataframe thead th {\n",
       "        text-align: right;\n",
       "    }\n",
       "</style>\n",
       "<table border=\"1\" class=\"dataframe\">\n",
       "  <thead>\n",
       "    <tr style=\"text-align: right;\">\n",
       "      <th></th>\n",
       "      <th>State/UTs</th>\n",
       "      <th>Total Cases</th>\n",
       "      <th>Active</th>\n",
       "      <th>Discharged</th>\n",
       "      <th>Deaths</th>\n",
       "      <th>Active Ratio</th>\n",
       "      <th>Discharge Ratio</th>\n",
       "      <th>Death Ratio</th>\n",
       "    </tr>\n",
       "  </thead>\n",
       "  <tbody>\n",
       "    <tr>\n",
       "      <th>count</th>\n",
       "      <td>36</td>\n",
       "      <td>36</td>\n",
       "      <td>36</td>\n",
       "      <td>36</td>\n",
       "      <td>36</td>\n",
       "      <td>36</td>\n",
       "      <td>36</td>\n",
       "      <td>36</td>\n",
       "    </tr>\n",
       "    <tr>\n",
       "      <th>unique</th>\n",
       "      <td>36</td>\n",
       "      <td>36</td>\n",
       "      <td>19</td>\n",
       "      <td>36</td>\n",
       "      <td>36</td>\n",
       "      <td>6</td>\n",
       "      <td>32</td>\n",
       "      <td>32</td>\n",
       "    </tr>\n",
       "    <tr>\n",
       "      <th>top</th>\n",
       "      <td>Maharashtra</td>\n",
       "      <td>81,70,24113</td>\n",
       "      <td>0</td>\n",
       "      <td>80,21,57912</td>\n",
       "      <td>1,48,556</td>\n",
       "      <td>0.00%</td>\n",
       "      <td>98.80%</td>\n",
       "      <td>1.20%</td>\n",
       "    </tr>\n",
       "    <tr>\n",
       "      <th>freq</th>\n",
       "      <td>1</td>\n",
       "      <td>1</td>\n",
       "      <td>13</td>\n",
       "      <td>1</td>\n",
       "      <td>1</td>\n",
       "      <td>16</td>\n",
       "      <td>2</td>\n",
       "      <td>2</td>\n",
       "    </tr>\n",
       "  </tbody>\n",
       "</table>\n",
       "</div>"
      ],
      "text/plain": [
       "          State/UTs  Total Cases Active   Discharged    Deaths Active Ratio  \\\n",
       "count            36           36     36           36        36           36   \n",
       "unique           36           36     19           36        36            6   \n",
       "top     Maharashtra  81,70,24113      0  80,21,57912  1,48,556        0.00%   \n",
       "freq              1            1     13            1         1           16   \n",
       "\n",
       "       Discharge Ratio Death Ratio  \n",
       "count               36          36  \n",
       "unique              32          32  \n",
       "top             98.80%       1.20%  \n",
       "freq                 2           2  "
      ]
     },
     "execution_count": 17,
     "metadata": {},
     "output_type": "execute_result"
    }
   ],
   "source": [
    "data.describe()"
   ]
  },
  {
   "cell_type": "markdown",
   "id": "e911638a",
   "metadata": {},
   "source": [
    "Тип данных у одного столбца с данными уже не DataFrame, а Series."
   ]
  },
  {
   "cell_type": "code",
   "execution_count": 18,
   "id": "ec7a0c47",
   "metadata": {},
   "outputs": [
    {
     "data": {
      "text/plain": [
       "pandas.core.series.Series"
      ]
     },
     "execution_count": 18,
     "metadata": {},
     "output_type": "execute_result"
    }
   ],
   "source": [
    "type(data.Deaths)"
   ]
  },
  {
   "cell_type": "markdown",
   "id": "ef028709",
   "metadata": {},
   "source": [
    "Серию данных из столбца можно также получить, обратившись к нему по именичерез точку после имени листа с нанными:"
   ]
  },
  {
   "cell_type": "code",
   "execution_count": 19,
   "id": "f7d9bce6",
   "metadata": {},
   "outputs": [
    {
     "data": {
      "text/plain": [
       "0     1,48,556\n",
       "1        71946\n",
       "2        40357\n",
       "3        38081\n",
       "4        14733\n",
       "5        23707\n",
       "6        21553\n",
       "7        26665\n",
       "8         9215\n",
       "9         9736\n",
       "10       11079\n",
       "11       14190\n",
       "12       10755\n",
       "13       10786\n",
       "14       12314\n",
       "15        4111\n",
       "16       19338\n",
       "17        8035\n",
       "18        4792\n",
       "19        7768\n",
       "20        5334\n",
       "21        4241\n",
       "22        4014\n",
       "23         734\n",
       "24        1981\n",
       "25        2149\n",
       "26         941\n",
       "27        1185\n",
       "28        1628\n",
       "29         296\n",
       "30         500\n",
       "31         782\n",
       "32         231\n",
       "33           4\n",
       "34          52\n",
       "35         129\n",
       "Name: Deaths, dtype: object"
      ]
     },
     "execution_count": 19,
     "metadata": {},
     "output_type": "execute_result"
    }
   ],
   "source": [
    "data.Deaths"
   ]
  },
  {
   "cell_type": "code",
   "execution_count": null,
   "id": "e690a16d",
   "metadata": {},
   "outputs": [],
   "source": []
  },
  {
   "cell_type": "markdown",
   "id": "6f1203e1",
   "metadata": {},
   "source": [
    "### Фильтрация Pandas DataFrame по логическому условию"
   ]
  },
  {
   "cell_type": "code",
   "execution_count": 20,
   "id": "0dbf3af5",
   "metadata": {},
   "outputs": [
    {
     "data": {
      "text/html": [
       "<div>\n",
       "<style scoped>\n",
       "    .dataframe tbody tr th:only-of-type {\n",
       "        vertical-align: middle;\n",
       "    }\n",
       "\n",
       "    .dataframe tbody tr th {\n",
       "        vertical-align: top;\n",
       "    }\n",
       "\n",
       "    .dataframe thead th {\n",
       "        text-align: right;\n",
       "    }\n",
       "</style>\n",
       "<table border=\"1\" class=\"dataframe\">\n",
       "  <thead>\n",
       "    <tr style=\"text-align: right;\">\n",
       "      <th></th>\n",
       "      <th>State/UTs</th>\n",
       "      <th>Total Cases</th>\n",
       "      <th>Active</th>\n",
       "      <th>Discharged</th>\n",
       "      <th>Deaths</th>\n",
       "      <th>Active Ratio</th>\n",
       "      <th>Discharge Ratio</th>\n",
       "      <th>Death Ratio</th>\n",
       "    </tr>\n",
       "  </thead>\n",
       "  <tbody>\n",
       "    <tr>\n",
       "      <th>0</th>\n",
       "      <td>Maharashtra</td>\n",
       "      <td>81,70,24113</td>\n",
       "      <td>1061</td>\n",
       "      <td>80,21,57912</td>\n",
       "      <td>1,48,556</td>\n",
       "      <td>0.00%</td>\n",
       "      <td>98.18%</td>\n",
       "      <td>1.82%</td>\n",
       "    </tr>\n",
       "    <tr>\n",
       "      <th>1</th>\n",
       "      <td>Kerala</td>\n",
       "      <td>69,07,1283</td>\n",
       "      <td>1,0076</td>\n",
       "      <td>68,34,1759</td>\n",
       "      <td>71946</td>\n",
       "      <td>0.01%</td>\n",
       "      <td>98.94%</td>\n",
       "      <td>1.04%</td>\n",
       "    </tr>\n",
       "    <tr>\n",
       "      <th>2</th>\n",
       "      <td>Karnataka</td>\n",
       "      <td>40,88,7102</td>\n",
       "      <td>181</td>\n",
       "      <td>40,48,3351</td>\n",
       "      <td>40357</td>\n",
       "      <td>0.00%</td>\n",
       "      <td>99.01%</td>\n",
       "      <td>0.99%</td>\n",
       "    </tr>\n",
       "    <tr>\n",
       "      <th>3</th>\n",
       "      <td>Tamil Nadu</td>\n",
       "      <td>36,10,6313</td>\n",
       "      <td>32</td>\n",
       "      <td>35,72,5475</td>\n",
       "      <td>38081</td>\n",
       "      <td>0.00%</td>\n",
       "      <td>98.95%</td>\n",
       "      <td>1.05%</td>\n",
       "    </tr>\n",
       "    <tr>\n",
       "      <th>4</th>\n",
       "      <td>Andhra Pradesh</td>\n",
       "      <td>23,40,674</td>\n",
       "      <td>1</td>\n",
       "      <td>23,25,9411</td>\n",
       "      <td>14733</td>\n",
       "      <td>0%</td>\n",
       "      <td>99.37%</td>\n",
       "      <td>0.63%</td>\n",
       "    </tr>\n",
       "  </tbody>\n",
       "</table>\n",
       "</div>"
      ],
      "text/plain": [
       "        State/UTs  Total Cases  Active   Discharged    Deaths Active Ratio  \\\n",
       "0     Maharashtra  81,70,24113    1061  80,21,57912  1,48,556        0.00%   \n",
       "1          Kerala   69,07,1283  1,0076   68,34,1759     71946        0.01%   \n",
       "2       Karnataka   40,88,7102     181   40,48,3351     40357        0.00%   \n",
       "3      Tamil Nadu   36,10,6313      32   35,72,5475     38081        0.00%   \n",
       "4  Andhra Pradesh    23,40,674       1   23,25,9411     14733           0%   \n",
       "\n",
       "  Discharge Ratio Death Ratio  \n",
       "0          98.18%       1.82%  \n",
       "1          98.94%       1.04%  \n",
       "2          99.01%       0.99%  \n",
       "3          98.95%       1.05%  \n",
       "4          99.37%       0.63%  "
      ]
     },
     "execution_count": 20,
     "metadata": {},
     "output_type": "execute_result"
    }
   ],
   "source": [
    "data.head()"
   ]
  },
  {
   "cell_type": "code",
   "execution_count": 21,
   "id": "e5083a2c",
   "metadata": {},
   "outputs": [],
   "source": [
    "data['Deaths'] = pd.to_numeric(data['Deaths'], errors='coerce')"
   ]
  },
  {
   "cell_type": "code",
   "execution_count": 22,
   "id": "df5b0662",
   "metadata": {},
   "outputs": [
    {
     "data": {
      "text/plain": [
       "14866.50409833739"
      ]
     },
     "execution_count": 22,
     "metadata": {},
     "output_type": "execute_result"
    }
   ],
   "source": [
    "data['Deaths'].std()"
   ]
  },
  {
   "cell_type": "code",
   "execution_count": null,
   "id": "2e828e52",
   "metadata": {},
   "outputs": [],
   "source": []
  },
  {
   "cell_type": "code",
   "execution_count": 23,
   "id": "60e3c24e",
   "metadata": {},
   "outputs": [],
   "source": [
    "# (data['Deaths'] > 4000) & (data['Deaths'] < 7000)"
   ]
  },
  {
   "cell_type": "markdown",
   "id": "1205c805",
   "metadata": {},
   "source": []
  },
  {
   "cell_type": "code",
   "execution_count": 24,
   "id": "c6a5e690",
   "metadata": {},
   "outputs": [
    {
     "data": {
      "text/html": [
       "<div>\n",
       "<style scoped>\n",
       "    .dataframe tbody tr th:only-of-type {\n",
       "        vertical-align: middle;\n",
       "    }\n",
       "\n",
       "    .dataframe tbody tr th {\n",
       "        vertical-align: top;\n",
       "    }\n",
       "\n",
       "    .dataframe thead th {\n",
       "        text-align: right;\n",
       "    }\n",
       "</style>\n",
       "<table border=\"1\" class=\"dataframe\">\n",
       "  <thead>\n",
       "    <tr style=\"text-align: right;\">\n",
       "      <th></th>\n",
       "      <th>State/UTs</th>\n",
       "      <th>Total Cases</th>\n",
       "      <th>Active</th>\n",
       "      <th>Discharged</th>\n",
       "      <th>Deaths</th>\n",
       "      <th>Active Ratio</th>\n",
       "      <th>Discharge Ratio</th>\n",
       "      <th>Death Ratio</th>\n",
       "    </tr>\n",
       "  </thead>\n",
       "  <tbody>\n",
       "    <tr>\n",
       "      <th>15</th>\n",
       "      <td>Telengana</td>\n",
       "      <td>8,44,3951</td>\n",
       "      <td>81</td>\n",
       "      <td>8,40,276</td>\n",
       "      <td>4111.0</td>\n",
       "      <td>0.00%</td>\n",
       "      <td>99.51%</td>\n",
       "      <td>0.49%</td>\n",
       "    </tr>\n",
       "    <tr>\n",
       "      <th>18</th>\n",
       "      <td>Jammu and Kashmir</td>\n",
       "      <td>4,82,022</td>\n",
       "      <td>1</td>\n",
       "      <td>4,77,2301</td>\n",
       "      <td>4792.0</td>\n",
       "      <td>0%</td>\n",
       "      <td>99.01%</td>\n",
       "      <td>0.99%</td>\n",
       "    </tr>\n",
       "  </tbody>\n",
       "</table>\n",
       "</div>"
      ],
      "text/plain": [
       "            State/UTs Total Cases Active Discharged  Deaths Active Ratio  \\\n",
       "15          Telengana   8,44,3951     81   8,40,276  4111.0        0.00%   \n",
       "18  Jammu and Kashmir    4,82,022      1  4,77,2301  4792.0           0%   \n",
       "\n",
       "   Discharge Ratio Death Ratio  \n",
       "15          99.51%       0.49%  \n",
       "18          99.01%       0.99%  "
      ]
     },
     "execution_count": 24,
     "metadata": {},
     "output_type": "execute_result"
    }
   ],
   "source": [
    "query_1 = pd.to_numeric(data['Death Ratio'].str.rstrip('%')) < 1\n",
    "query_2 = (data['Deaths'] > 4000) & (data['Deaths'] < 7000)\n",
    "data[query_1 & query_2]"
   ]
  },
  {
   "cell_type": "code",
   "execution_count": 25,
   "id": "f9afb152",
   "metadata": {},
   "outputs": [
    {
     "data": {
      "text/html": [
       "<div>\n",
       "<style scoped>\n",
       "    .dataframe tbody tr th:only-of-type {\n",
       "        vertical-align: middle;\n",
       "    }\n",
       "\n",
       "    .dataframe tbody tr th {\n",
       "        vertical-align: top;\n",
       "    }\n",
       "\n",
       "    .dataframe thead th {\n",
       "        text-align: right;\n",
       "    }\n",
       "</style>\n",
       "<table border=\"1\" class=\"dataframe\">\n",
       "  <thead>\n",
       "    <tr style=\"text-align: right;\">\n",
       "      <th></th>\n",
       "      <th>State/UTs</th>\n",
       "      <th>Total Cases</th>\n",
       "      <th>Active</th>\n",
       "      <th>Discharged</th>\n",
       "      <th>Deaths</th>\n",
       "      <th>Active Ratio</th>\n",
       "      <th>Discharge Ratio</th>\n",
       "      <th>Death Ratio</th>\n",
       "    </tr>\n",
       "  </thead>\n",
       "  <tbody>\n",
       "    <tr>\n",
       "      <th>0</th>\n",
       "      <td>Maharashtra</td>\n",
       "      <td>81,70,24113</td>\n",
       "      <td>1061</td>\n",
       "      <td>80,21,57912</td>\n",
       "      <td>NaN</td>\n",
       "      <td>0.00%</td>\n",
       "      <td>98.18%</td>\n",
       "      <td>1.82%</td>\n",
       "    </tr>\n",
       "    <tr>\n",
       "      <th>1</th>\n",
       "      <td>Kerala</td>\n",
       "      <td>69,07,1283</td>\n",
       "      <td>1,0076</td>\n",
       "      <td>68,34,1759</td>\n",
       "      <td>71946.0</td>\n",
       "      <td>0.01%</td>\n",
       "      <td>98.94%</td>\n",
       "      <td>1.04%</td>\n",
       "    </tr>\n",
       "    <tr>\n",
       "      <th>2</th>\n",
       "      <td>Karnataka</td>\n",
       "      <td>40,88,7102</td>\n",
       "      <td>181</td>\n",
       "      <td>40,48,3351</td>\n",
       "      <td>40357.0</td>\n",
       "      <td>0.00%</td>\n",
       "      <td>99.01%</td>\n",
       "      <td>0.99%</td>\n",
       "    </tr>\n",
       "    <tr>\n",
       "      <th>3</th>\n",
       "      <td>Tamil Nadu</td>\n",
       "      <td>36,10,6313</td>\n",
       "      <td>32</td>\n",
       "      <td>35,72,5475</td>\n",
       "      <td>38081.0</td>\n",
       "      <td>0.00%</td>\n",
       "      <td>98.95%</td>\n",
       "      <td>1.05%</td>\n",
       "    </tr>\n",
       "    <tr>\n",
       "      <th>4</th>\n",
       "      <td>Andhra Pradesh</td>\n",
       "      <td>23,40,674</td>\n",
       "      <td>1</td>\n",
       "      <td>23,25,9411</td>\n",
       "      <td>14733.0</td>\n",
       "      <td>0%</td>\n",
       "      <td>99.37%</td>\n",
       "      <td>0.63%</td>\n",
       "    </tr>\n",
       "    <tr>\n",
       "      <th>5</th>\n",
       "      <td>Uttar Pradesh</td>\n",
       "      <td>21,45,4151</td>\n",
       "      <td>601</td>\n",
       "      <td>21,21,648</td>\n",
       "      <td>23707.0</td>\n",
       "      <td>0.00%</td>\n",
       "      <td>98.89%</td>\n",
       "      <td>1.11%</td>\n",
       "    </tr>\n",
       "    <tr>\n",
       "      <th>6</th>\n",
       "      <td>West Bengal</td>\n",
       "      <td>21,25,86513</td>\n",
       "      <td>2353</td>\n",
       "      <td>21,04,07716</td>\n",
       "      <td>21553.0</td>\n",
       "      <td>0.01%</td>\n",
       "      <td>98.98%</td>\n",
       "      <td>1.01%</td>\n",
       "    </tr>\n",
       "    <tr>\n",
       "      <th>7</th>\n",
       "      <td>Delhi</td>\n",
       "      <td>20,40,8262</td>\n",
       "      <td>51</td>\n",
       "      <td>20,14,1561</td>\n",
       "      <td>26665.0</td>\n",
       "      <td>0.00%</td>\n",
       "      <td>98.69%</td>\n",
       "      <td>1.31%</td>\n",
       "    </tr>\n",
       "    <tr>\n",
       "      <th>8</th>\n",
       "      <td>Odisha</td>\n",
       "      <td>13,48,3801</td>\n",
       "      <td>65</td>\n",
       "      <td>13,39,1001</td>\n",
       "      <td>9215.0</td>\n",
       "      <td>0.00%</td>\n",
       "      <td>99.31%</td>\n",
       "      <td>0.68%</td>\n",
       "    </tr>\n",
       "    <tr>\n",
       "      <th>9</th>\n",
       "      <td>Rajasthan</td>\n",
       "      <td>13,26,462</td>\n",
       "      <td>1</td>\n",
       "      <td>13,16,725</td>\n",
       "      <td>9736.0</td>\n",
       "      <td>0.00%</td>\n",
       "      <td>99.27%</td>\n",
       "      <td>0.73%</td>\n",
       "    </tr>\n",
       "  </tbody>\n",
       "</table>\n",
       "</div>"
      ],
      "text/plain": [
       "        State/UTs  Total Cases  Active   Discharged   Deaths Active Ratio  \\\n",
       "0     Maharashtra  81,70,24113    1061  80,21,57912      NaN        0.00%   \n",
       "1          Kerala   69,07,1283  1,0076   68,34,1759  71946.0        0.01%   \n",
       "2       Karnataka   40,88,7102     181   40,48,3351  40357.0        0.00%   \n",
       "3      Tamil Nadu   36,10,6313      32   35,72,5475  38081.0        0.00%   \n",
       "4  Andhra Pradesh    23,40,674       1   23,25,9411  14733.0           0%   \n",
       "5   Uttar Pradesh   21,45,4151     601    21,21,648  23707.0        0.00%   \n",
       "6     West Bengal  21,25,86513    2353  21,04,07716  21553.0        0.01%   \n",
       "7           Delhi   20,40,8262      51   20,14,1561  26665.0        0.00%   \n",
       "8          Odisha   13,48,3801      65   13,39,1001   9215.0        0.00%   \n",
       "9       Rajasthan    13,26,462       1    13,16,725   9736.0        0.00%   \n",
       "\n",
       "  Discharge Ratio Death Ratio  \n",
       "0          98.18%       1.82%  \n",
       "1          98.94%       1.04%  \n",
       "2          99.01%       0.99%  \n",
       "3          98.95%       1.05%  \n",
       "4          99.37%       0.63%  \n",
       "5          98.89%       1.11%  \n",
       "6          98.98%       1.01%  \n",
       "7          98.69%       1.31%  \n",
       "8          99.31%       0.68%  \n",
       "9          99.27%       0.73%  "
      ]
     },
     "execution_count": 25,
     "metadata": {},
     "output_type": "execute_result"
    }
   ],
   "source": [
    "data.head(10)"
   ]
  },
  {
   "cell_type": "code",
   "execution_count": 26,
   "id": "8d3a7063",
   "metadata": {},
   "outputs": [
    {
     "data": {
      "text/html": [
       "<div>\n",
       "<style scoped>\n",
       "    .dataframe tbody tr th:only-of-type {\n",
       "        vertical-align: middle;\n",
       "    }\n",
       "\n",
       "    .dataframe tbody tr th {\n",
       "        vertical-align: top;\n",
       "    }\n",
       "\n",
       "    .dataframe thead th {\n",
       "        text-align: right;\n",
       "    }\n",
       "</style>\n",
       "<table border=\"1\" class=\"dataframe\">\n",
       "  <thead>\n",
       "    <tr style=\"text-align: right;\">\n",
       "      <th></th>\n",
       "      <th>State/UTs</th>\n",
       "      <th>Total Cases</th>\n",
       "      <th>Active</th>\n",
       "      <th>Discharged</th>\n",
       "      <th>Deaths</th>\n",
       "      <th>Active Ratio</th>\n",
       "      <th>Discharge Ratio</th>\n",
       "      <th>Death Ratio</th>\n",
       "    </tr>\n",
       "  </thead>\n",
       "  <tbody>\n",
       "    <tr>\n",
       "      <th>15</th>\n",
       "      <td>Telengana</td>\n",
       "      <td>8,44,3951</td>\n",
       "      <td>81</td>\n",
       "      <td>8,40,276</td>\n",
       "      <td>4111.0</td>\n",
       "      <td>0.00%</td>\n",
       "      <td>99.51%</td>\n",
       "      <td>0.49%</td>\n",
       "    </tr>\n",
       "    <tr>\n",
       "      <th>18</th>\n",
       "      <td>Jammu and Kashmir</td>\n",
       "      <td>4,82,022</td>\n",
       "      <td>1</td>\n",
       "      <td>4,77,2301</td>\n",
       "      <td>4792.0</td>\n",
       "      <td>0%</td>\n",
       "      <td>99.01%</td>\n",
       "      <td>0.99%</td>\n",
       "    </tr>\n",
       "  </tbody>\n",
       "</table>\n",
       "</div>"
      ],
      "text/plain": [
       "            State/UTs Total Cases Active Discharged  Deaths Active Ratio  \\\n",
       "15          Telengana   8,44,3951     81   8,40,276  4111.0        0.00%   \n",
       "18  Jammu and Kashmir    4,82,022      1  4,77,2301  4792.0           0%   \n",
       "\n",
       "   Discharge Ratio Death Ratio  \n",
       "15          99.51%       0.49%  \n",
       "18          99.01%       0.99%  "
      ]
     },
     "execution_count": 26,
     "metadata": {},
     "output_type": "execute_result"
    }
   ],
   "source": [
    "query_1 = pd.to_numeric(data['Death Ratio'].str.rstrip('%')) < 1\n",
    "query_2 = (data['Deaths'] > 4000) & (data['Deaths'] < 7000)\n",
    "data[query_1 & query_2]"
   ]
  },
  {
   "cell_type": "markdown",
   "id": "67a82b99",
   "metadata": {},
   "source": [
    "Чтобы делать, если мы хотим применить оба условия - потребовать их одновременной истинности? Как и массивам NumPy, операции and, or, not к листам с данными неприменимы.\n",
    "\n",
    "Нужно пользоваться операторами &, |, ~, которые приводят к массовым операциям. Единственное, что нужно учесть, что приоритет этх операций выше, чем у обычных логических, а значит атомарные высказывания нужно окружать скобками:"
   ]
  },
  {
   "cell_type": "code",
   "execution_count": 27,
   "id": "160e90dc",
   "metadata": {},
   "outputs": [
    {
     "data": {
      "text/html": [
       "<div>\n",
       "<style scoped>\n",
       "    .dataframe tbody tr th:only-of-type {\n",
       "        vertical-align: middle;\n",
       "    }\n",
       "\n",
       "    .dataframe tbody tr th {\n",
       "        vertical-align: top;\n",
       "    }\n",
       "\n",
       "    .dataframe thead th {\n",
       "        text-align: right;\n",
       "    }\n",
       "</style>\n",
       "<table border=\"1\" class=\"dataframe\">\n",
       "  <thead>\n",
       "    <tr style=\"text-align: right;\">\n",
       "      <th></th>\n",
       "      <th>State/UTs</th>\n",
       "      <th>Total Cases</th>\n",
       "      <th>Active</th>\n",
       "      <th>Discharged</th>\n",
       "      <th>Deaths</th>\n",
       "      <th>Active Ratio</th>\n",
       "      <th>Discharge Ratio</th>\n",
       "      <th>Death Ratio</th>\n",
       "    </tr>\n",
       "  </thead>\n",
       "  <tbody>\n",
       "    <tr>\n",
       "      <th>15</th>\n",
       "      <td>Telengana</td>\n",
       "      <td>8,44,3951</td>\n",
       "      <td>81</td>\n",
       "      <td>8,40,276</td>\n",
       "      <td>4111.0</td>\n",
       "      <td>0.00%</td>\n",
       "      <td>99.51%</td>\n",
       "      <td>0.49%</td>\n",
       "    </tr>\n",
       "    <tr>\n",
       "      <th>18</th>\n",
       "      <td>Jammu and Kashmir</td>\n",
       "      <td>4,82,022</td>\n",
       "      <td>1</td>\n",
       "      <td>4,77,2301</td>\n",
       "      <td>4792.0</td>\n",
       "      <td>0%</td>\n",
       "      <td>99.01%</td>\n",
       "      <td>0.99%</td>\n",
       "    </tr>\n",
       "  </tbody>\n",
       "</table>\n",
       "</div>"
      ],
      "text/plain": [
       "            State/UTs Total Cases Active Discharged  Deaths Active Ratio  \\\n",
       "15          Telengana   8,44,3951     81   8,40,276  4111.0        0.00%   \n",
       "18  Jammu and Kashmir    4,82,022      1  4,77,2301  4792.0           0%   \n",
       "\n",
       "   Discharge Ratio Death Ratio  \n",
       "15          99.51%       0.49%  \n",
       "18          99.01%       0.99%  "
      ]
     },
     "execution_count": 27,
     "metadata": {},
     "output_type": "execute_result"
    }
   ],
   "source": [
    "query_1 = pd.to_numeric(data['Death Ratio'].str.rstrip('%')) < 1\n",
    "query_2 = (data['Deaths'] > 4000) & (data['Deaths'] < 7000)\n",
    "data[query_1 & query_2]"
   ]
  },
  {
   "cell_type": "markdown",
   "id": "9f5bdc60",
   "metadata": {},
   "source": [
    "### Фильирация при помощи метода query\n",
    "\n",
    "Выбр нужных строк листа при помощи массива логических значений, получаемых из этого листа, неплох. Но если наименование листа длинное, то записывать его в строке несколько раз кажется затруднительным. Кроме того, необходимость\n",
    "заменять операции может дополнительно затруднить восприятие.\n",
    "\n",
    "Можно формулировать запрос отбора нужных строк намного проще - через метод query:"
   ]
  },
  {
   "cell_type": "code",
   "execution_count": 41,
   "id": "485bfa0c",
   "metadata": {},
   "outputs": [
    {
     "data": {
      "text/html": [
       "<div>\n",
       "<style scoped>\n",
       "    .dataframe tbody tr th:only-of-type {\n",
       "        vertical-align: middle;\n",
       "    }\n",
       "\n",
       "    .dataframe tbody tr th {\n",
       "        vertical-align: top;\n",
       "    }\n",
       "\n",
       "    .dataframe thead th {\n",
       "        text-align: right;\n",
       "    }\n",
       "</style>\n",
       "<table border=\"1\" class=\"dataframe\">\n",
       "  <thead>\n",
       "    <tr style=\"text-align: right;\">\n",
       "      <th></th>\n",
       "      <th>State/UTs</th>\n",
       "      <th>Total Cases</th>\n",
       "      <th>Active</th>\n",
       "      <th>Discharged</th>\n",
       "      <th>Deaths</th>\n",
       "      <th>Active Ratio</th>\n",
       "      <th>Discharge Ratio</th>\n",
       "      <th>Death Ratio</th>\n",
       "    </tr>\n",
       "  </thead>\n",
       "  <tbody>\n",
       "    <tr>\n",
       "      <th>0</th>\n",
       "      <td>Maharashtra</td>\n",
       "      <td>81,70,24113</td>\n",
       "      <td>1061</td>\n",
       "      <td>80,21,57912</td>\n",
       "      <td>NaN</td>\n",
       "      <td>0.00%</td>\n",
       "      <td>98.18%</td>\n",
       "      <td>1.82%</td>\n",
       "    </tr>\n",
       "    <tr>\n",
       "      <th>1</th>\n",
       "      <td>Kerala</td>\n",
       "      <td>69,07,1283</td>\n",
       "      <td>1,0076</td>\n",
       "      <td>68,34,1759</td>\n",
       "      <td>71946.0</td>\n",
       "      <td>0.01%</td>\n",
       "      <td>98.94%</td>\n",
       "      <td>1.04%</td>\n",
       "    </tr>\n",
       "    <tr>\n",
       "      <th>2</th>\n",
       "      <td>Karnataka</td>\n",
       "      <td>40,88,7102</td>\n",
       "      <td>181</td>\n",
       "      <td>40,48,3351</td>\n",
       "      <td>40357.0</td>\n",
       "      <td>0.00%</td>\n",
       "      <td>99.01%</td>\n",
       "      <td>0.99%</td>\n",
       "    </tr>\n",
       "    <tr>\n",
       "      <th>3</th>\n",
       "      <td>Tamil Nadu</td>\n",
       "      <td>36,10,6313</td>\n",
       "      <td>32</td>\n",
       "      <td>35,72,5475</td>\n",
       "      <td>38081.0</td>\n",
       "      <td>0.00%</td>\n",
       "      <td>98.95%</td>\n",
       "      <td>1.05%</td>\n",
       "    </tr>\n",
       "    <tr>\n",
       "      <th>4</th>\n",
       "      <td>Andhra Pradesh</td>\n",
       "      <td>23,40,674</td>\n",
       "      <td>1</td>\n",
       "      <td>23,25,9411</td>\n",
       "      <td>14733.0</td>\n",
       "      <td>0%</td>\n",
       "      <td>99.37%</td>\n",
       "      <td>0.63%</td>\n",
       "    </tr>\n",
       "    <tr>\n",
       "      <th>6</th>\n",
       "      <td>West Bengal</td>\n",
       "      <td>21,25,86513</td>\n",
       "      <td>2353</td>\n",
       "      <td>21,04,07716</td>\n",
       "      <td>21553.0</td>\n",
       "      <td>0.01%</td>\n",
       "      <td>98.98%</td>\n",
       "      <td>1.01%</td>\n",
       "    </tr>\n",
       "  </tbody>\n",
       "</table>\n",
       "</div>"
      ],
      "text/plain": [
       "        State/UTs  Total Cases  Active   Discharged   Deaths Active Ratio  \\\n",
       "0     Maharashtra  81,70,24113    1061  80,21,57912      NaN        0.00%   \n",
       "1          Kerala   69,07,1283  1,0076   68,34,1759  71946.0        0.01%   \n",
       "2       Karnataka   40,88,7102     181   40,48,3351  40357.0        0.00%   \n",
       "3      Tamil Nadu   36,10,6313      32   35,72,5475  38081.0        0.00%   \n",
       "4  Andhra Pradesh    23,40,674       1   23,25,9411  14733.0           0%   \n",
       "6     West Bengal  21,25,86513    2353  21,04,07716  21553.0        0.01%   \n",
       "\n",
       "  Discharge Ratio Death Ratio  \n",
       "0          98.18%       1.82%  \n",
       "1          98.94%       1.04%  \n",
       "2          99.01%       0.99%  \n",
       "3          98.95%       1.05%  \n",
       "4          99.37%       0.63%  \n",
       "6          98.98%       1.01%  "
      ]
     },
     "execution_count": 41,
     "metadata": {},
     "output_type": "execute_result"
    }
   ],
   "source": [
    "data[pd.to_numeric(data['Discharged'].str.replace(',', '')) > 21000000]"
   ]
  },
  {
   "cell_type": "markdown",
   "id": "1a420672",
   "metadata": {},
   "source": [
    "При помощи query легко формулировать сложные условия отбора."
   ]
  },
  {
   "cell_type": "code",
   "execution_count": 42,
   "id": "5943ed07",
   "metadata": {},
   "outputs": [
    {
     "data": {
      "text/html": [
       "<div>\n",
       "<style scoped>\n",
       "    .dataframe tbody tr th:only-of-type {\n",
       "        vertical-align: middle;\n",
       "    }\n",
       "\n",
       "    .dataframe tbody tr th {\n",
       "        vertical-align: top;\n",
       "    }\n",
       "\n",
       "    .dataframe thead th {\n",
       "        text-align: right;\n",
       "    }\n",
       "</style>\n",
       "<table border=\"1\" class=\"dataframe\">\n",
       "  <thead>\n",
       "    <tr style=\"text-align: right;\">\n",
       "      <th></th>\n",
       "      <th>State/UTs</th>\n",
       "      <th>Total Cases</th>\n",
       "      <th>Active</th>\n",
       "      <th>Discharged</th>\n",
       "      <th>Deaths</th>\n",
       "      <th>Active Ratio</th>\n",
       "      <th>Discharge Ratio</th>\n",
       "      <th>Death Ratio</th>\n",
       "    </tr>\n",
       "  </thead>\n",
       "  <tbody>\n",
       "    <tr>\n",
       "      <th>0</th>\n",
       "      <td>Maharashtra</td>\n",
       "      <td>81,70,24113</td>\n",
       "      <td>1061</td>\n",
       "      <td>80,21,57912</td>\n",
       "      <td>NaN</td>\n",
       "      <td>0.00%</td>\n",
       "      <td>98.18%</td>\n",
       "      <td>1.82%</td>\n",
       "    </tr>\n",
       "    <tr>\n",
       "      <th>1</th>\n",
       "      <td>Kerala</td>\n",
       "      <td>69,07,1283</td>\n",
       "      <td>1,0076</td>\n",
       "      <td>68,34,1759</td>\n",
       "      <td>71946.0</td>\n",
       "      <td>0.01%</td>\n",
       "      <td>98.94%</td>\n",
       "      <td>1.04%</td>\n",
       "    </tr>\n",
       "    <tr>\n",
       "      <th>2</th>\n",
       "      <td>Karnataka</td>\n",
       "      <td>40,88,7102</td>\n",
       "      <td>181</td>\n",
       "      <td>40,48,3351</td>\n",
       "      <td>40357.0</td>\n",
       "      <td>0.00%</td>\n",
       "      <td>99.01%</td>\n",
       "      <td>0.99%</td>\n",
       "    </tr>\n",
       "    <tr>\n",
       "      <th>3</th>\n",
       "      <td>Tamil Nadu</td>\n",
       "      <td>36,10,6313</td>\n",
       "      <td>32</td>\n",
       "      <td>35,72,5475</td>\n",
       "      <td>38081.0</td>\n",
       "      <td>0.00%</td>\n",
       "      <td>98.95%</td>\n",
       "      <td>1.05%</td>\n",
       "    </tr>\n",
       "    <tr>\n",
       "      <th>4</th>\n",
       "      <td>Andhra Pradesh</td>\n",
       "      <td>23,40,674</td>\n",
       "      <td>1</td>\n",
       "      <td>23,25,9411</td>\n",
       "      <td>14733.0</td>\n",
       "      <td>0%</td>\n",
       "      <td>99.37%</td>\n",
       "      <td>0.63%</td>\n",
       "    </tr>\n",
       "  </tbody>\n",
       "</table>\n",
       "</div>"
      ],
      "text/plain": [
       "        State/UTs  Total Cases  Active   Discharged   Deaths Active Ratio  \\\n",
       "0     Maharashtra  81,70,24113    1061  80,21,57912      NaN        0.00%   \n",
       "1          Kerala   69,07,1283  1,0076   68,34,1759  71946.0        0.01%   \n",
       "2       Karnataka   40,88,7102     181   40,48,3351  40357.0        0.00%   \n",
       "3      Tamil Nadu   36,10,6313      32   35,72,5475  38081.0        0.00%   \n",
       "4  Andhra Pradesh    23,40,674       1   23,25,9411  14733.0           0%   \n",
       "\n",
       "  Discharge Ratio Death Ratio  \n",
       "0          98.18%       1.82%  \n",
       "1          98.94%       1.04%  \n",
       "2          99.01%       0.99%  \n",
       "3          98.95%       1.05%  \n",
       "4          99.37%       0.63%  "
      ]
     },
     "execution_count": 42,
     "metadata": {},
     "output_type": "execute_result"
    }
   ],
   "source": [
    "data.head()"
   ]
  },
  {
   "cell_type": "code",
   "execution_count": 43,
   "id": "17816409",
   "metadata": {},
   "outputs": [],
   "source": [
    "data['Total Cases'] = pd.to_numeric(data['Total Cases'].str.replace(',', ''))"
   ]
  },
  {
   "cell_type": "code",
   "execution_count": 44,
   "id": "f515a533",
   "metadata": {},
   "outputs": [
    {
     "data": {
      "text/html": [
       "<div>\n",
       "<style scoped>\n",
       "    .dataframe tbody tr th:only-of-type {\n",
       "        vertical-align: middle;\n",
       "    }\n",
       "\n",
       "    .dataframe tbody tr th {\n",
       "        vertical-align: top;\n",
       "    }\n",
       "\n",
       "    .dataframe thead th {\n",
       "        text-align: right;\n",
       "    }\n",
       "</style>\n",
       "<table border=\"1\" class=\"dataframe\">\n",
       "  <thead>\n",
       "    <tr style=\"text-align: right;\">\n",
       "      <th></th>\n",
       "      <th>Total Cases</th>\n",
       "      <th>Deaths</th>\n",
       "    </tr>\n",
       "  </thead>\n",
       "  <tbody>\n",
       "    <tr>\n",
       "      <th>count</th>\n",
       "      <td>3.600000e+01</td>\n",
       "      <td>35.000000</td>\n",
       "    </tr>\n",
       "    <tr>\n",
       "      <th>mean</th>\n",
       "      <td>3.511317e+07</td>\n",
       "      <td>10953.200000</td>\n",
       "    </tr>\n",
       "    <tr>\n",
       "      <th>std</th>\n",
       "      <td>1.391092e+08</td>\n",
       "      <td>14866.504098</td>\n",
       "    </tr>\n",
       "    <tr>\n",
       "      <th>min</th>\n",
       "      <td>1.076600e+04</td>\n",
       "      <td>4.000000</td>\n",
       "    </tr>\n",
       "    <tr>\n",
       "      <th>25%</th>\n",
       "      <td>1.681665e+05</td>\n",
       "      <td>1063.000000</td>\n",
       "    </tr>\n",
       "    <tr>\n",
       "      <th>50%</th>\n",
       "      <td>9.558065e+05</td>\n",
       "      <td>5334.000000</td>\n",
       "    </tr>\n",
       "    <tr>\n",
       "      <th>75%</th>\n",
       "      <td>8.063266e+06</td>\n",
       "      <td>13252.000000</td>\n",
       "    </tr>\n",
       "    <tr>\n",
       "      <th>max</th>\n",
       "      <td>8.170241e+08</td>\n",
       "      <td>71946.000000</td>\n",
       "    </tr>\n",
       "  </tbody>\n",
       "</table>\n",
       "</div>"
      ],
      "text/plain": [
       "        Total Cases        Deaths\n",
       "count  3.600000e+01     35.000000\n",
       "mean   3.511317e+07  10953.200000\n",
       "std    1.391092e+08  14866.504098\n",
       "min    1.076600e+04      4.000000\n",
       "25%    1.681665e+05   1063.000000\n",
       "50%    9.558065e+05   5334.000000\n",
       "75%    8.063266e+06  13252.000000\n",
       "max    8.170241e+08  71946.000000"
      ]
     },
     "execution_count": 44,
     "metadata": {},
     "output_type": "execute_result"
    }
   ],
   "source": [
    "data.describe()"
   ]
  },
  {
   "cell_type": "code",
   "execution_count": null,
   "id": "f4e58591",
   "metadata": {},
   "outputs": [],
   "source": [
    "data.drop('')"
   ]
  },
  {
   "cell_type": "code",
   "execution_count": null,
   "id": "1713a163",
   "metadata": {},
   "outputs": [],
   "source": []
  },
  {
   "cell_type": "code",
   "execution_count": null,
   "id": "06adcebb",
   "metadata": {},
   "outputs": [],
   "source": []
  },
  {
   "cell_type": "code",
   "execution_count": null,
   "id": "93a2ac8b",
   "metadata": {},
   "outputs": [],
   "source": []
  },
  {
   "cell_type": "code",
   "execution_count": null,
   "id": "87039271",
   "metadata": {},
   "outputs": [],
   "source": []
  }
 ],
 "metadata": {
  "kernelspec": {
   "display_name": "Python 3 (ipykernel)",
   "language": "python",
   "name": "python3"
  },
  "language_info": {
   "codemirror_mode": {
    "name": "ipython",
    "version": 3
   },
   "file_extension": ".py",
   "mimetype": "text/x-python",
   "name": "python",
   "nbconvert_exporter": "python",
   "pygments_lexer": "ipython3",
   "version": "3.11.3"
  }
 },
 "nbformat": 4,
 "nbformat_minor": 5
}
