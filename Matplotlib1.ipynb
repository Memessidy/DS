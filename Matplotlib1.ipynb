{
 "cells": [
  {
   "cell_type": "markdown",
   "id": "ff260ea4",
   "metadata": {},
   "source": [
    "### Построение графиков и основы библиотеки Matplotlib"
   ]
  },
  {
   "cell_type": "markdown",
   "id": "50e38c7b",
   "metadata": {},
   "source": [
    "#### Простой грайик на плоскости Декарта"
   ]
  },
  {
   "cell_type": "code",
   "execution_count": 1,
   "id": "7afd98ff",
   "metadata": {},
   "outputs": [
    {
     "data": {
      "text/plain": [
       "[<matplotlib.lines.Line2D at 0x1f99ee62e90>]"
      ]
     },
     "execution_count": 1,
     "metadata": {},
     "output_type": "execute_result"
    },
    {
     "data": {
      "image/png": "[encoded data removed]",
      "text/plain": [
       "<Figure size 640x480 with 1 Axes>"
      ]
     },
     "metadata": {},
     "output_type": "display_data"
    }
   ],
   "source": [
    "import matplotlib.pyplot as plt\n",
    "x = [-3, -2, -1, 0, 1, 2, 3]\n",
    "y = [9, 4, 1, 0, 1, 4, 9]\n",
    "plt.plot(x, y, 'r')\n",
    "# plt.show()\n",
    "# plt.savefig('parabola.png')"
   ]
  },
  {
   "cell_type": "markdown",
   "id": "9461e288",
   "metadata": {},
   "source": [
    "### Математическая сущность функций\n",
    "#### Что такое математическая функция"
   ]
  },
  {
   "cell_type": "markdown",
   "id": "5a5fe4c5",
   "metadata": {},
   "source": [
    "#### Стандартные математические функции"
   ]
  },
  {
   "cell_type": "code",
   "execution_count": 2,
   "id": "06b4de34",
   "metadata": {},
   "outputs": [],
   "source": [
    "import numpy as np"
   ]
  },
  {
   "cell_type": "markdown",
   "id": "e6bb41d5",
   "metadata": {},
   "source": [
    "### Массивы ndarray вместо списков list\n",
    "\n",
    "Тип массива NumPy называется ndarray, но создавать их нужно НЕ через\n",
    "конструктор этого типа, а, например, при помощи np.array:"
   ]
  },
  {
   "cell_type": "code",
   "execution_count": 3,
   "id": "9117a769",
   "metadata": {},
   "outputs": [
    {
     "name": "stdout",
     "output_type": "stream",
     "text": [
      "<class 'numpy.ndarray'>\n"
     ]
    },
    {
     "data": {
      "text/plain": [
       "array([0, 1, 2, 3, 4, 5, 6, 7, 8, 9])"
      ]
     },
     "execution_count": 3,
     "metadata": {},
     "output_type": "execute_result"
    }
   ],
   "source": [
    "A = np.array(list(range(10)))\n",
    "print(type(A))\n",
    "A"
   ]
  },
  {
   "cell_type": "code",
   "execution_count": 4,
   "id": "b3b91750",
   "metadata": {},
   "outputs": [
    {
     "data": {
      "text/plain": [
       "array([ 0.,  0.,  0.,  0., 12.,  0.,  0.,  0.,  0.,  0.])"
      ]
     },
     "execution_count": 4,
     "metadata": {},
     "output_type": "execute_result"
    }
   ],
   "source": [
    "B = np.zeros(10, dtype=float)\n",
    "B[4] = 12\n",
    "B"
   ]
  },
  {
   "cell_type": "code",
   "execution_count": 5,
   "id": "3ab7c66f",
   "metadata": {},
   "outputs": [
    {
     "data": {
      "text/plain": [
       "dtype('int32')"
      ]
     },
     "execution_count": 5,
     "metadata": {},
     "output_type": "execute_result"
    }
   ],
   "source": [
    "A.dtype"
   ]
  },
  {
   "cell_type": "code",
   "execution_count": 6,
   "id": "98f9683b",
   "metadata": {},
   "outputs": [
    {
     "data": {
      "text/plain": [
       "dtype('float64')"
      ]
     },
     "execution_count": 6,
     "metadata": {},
     "output_type": "execute_result"
    }
   ],
   "source": [
    "B.dtype"
   ]
  },
  {
   "cell_type": "code",
   "execution_count": 7,
   "id": "380b8762",
   "metadata": {},
   "outputs": [
    {
     "data": {
      "text/plain": [
       "array([1., 1., 1., 1., 1., 1., 1., 1., 1., 1.])"
      ]
     },
     "execution_count": 7,
     "metadata": {},
     "output_type": "execute_result"
    }
   ],
   "source": [
    "np.ones(10)"
   ]
  },
  {
   "cell_type": "markdown",
   "id": "f3dae768",
   "metadata": {},
   "source": [
    "Аналог range, функция np.arange генерирует массив со значениями в указанном диапазоне чисел. Если указано одно число, то левая граница прогрессии - ноль:"
   ]
  },
  {
   "cell_type": "code",
   "execution_count": 8,
   "id": "c3e18d68",
   "metadata": {},
   "outputs": [
    {
     "data": {
      "text/plain": [
       "array([ 0,  1,  2,  3, -3,  5,  6,  7,  8,  9])"
      ]
     },
     "execution_count": 8,
     "metadata": {},
     "output_type": "execute_result"
    }
   ],
   "source": [
    "C = np.arange(10)\n",
    "C[4] = -3\n",
    "C"
   ]
  },
  {
   "cell_type": "markdown",
   "id": "063dc019",
   "metadata": {},
   "source": [
    "Укажем правую границу. Как и у обычного range, она не входит в диапазон:"
   ]
  },
  {
   "cell_type": "code",
   "execution_count": 9,
   "id": "e5244f4f",
   "metadata": {},
   "outputs": [
    {
     "data": {
      "text/plain": [
       "array([ 5,  6,  7,  8,  9, 10, 11, 12, 13, 14])"
      ]
     },
     "execution_count": 9,
     "metadata": {},
     "output_type": "execute_result"
    }
   ],
   "source": [
    "np.arange(5, 15)"
   ]
  },
  {
   "cell_type": "markdown",
   "id": "f5f15ca2",
   "metadata": {},
   "source": [
    "Третий параметр arange - шаг прогрессии. Не всегда при этом легко сказать сколько чисел получится в этом массиве."
   ]
  },
  {
   "cell_type": "code",
   "execution_count": 10,
   "id": "87fe4ad5",
   "metadata": {},
   "outputs": [],
   "source": [
    "x = np.arange(10, 115, 15)"
   ]
  },
  {
   "cell_type": "markdown",
   "id": "a17478dd",
   "metadata": {},
   "source": [
    "Существенное отличие от range! Генерация массива работает как с целыми границами и шагом, так и с дробными:"
   ]
  },
  {
   "cell_type": "code",
   "execution_count": 11,
   "id": "107ecf87",
   "metadata": {},
   "outputs": [
    {
     "data": {
      "text/plain": [
       "array([ 0.2,  0.7,  1.2,  1.7,  2.2,  2.7,  3.2,  3.7,  4.2,  4.7,  5.2,\n",
       "        5.7,  6.2,  6.7,  7.2,  7.7,  8.2,  8.7,  9.2,  9.7, 10.2, 10.7])"
      ]
     },
     "execution_count": 11,
     "metadata": {},
     "output_type": "execute_result"
    }
   ],
   "source": [
    "np.arange(0.2, 10.9, 0.5)"
   ]
  },
  {
   "cell_type": "markdown",
   "id": "c4ddcda7",
   "metadata": {},
   "source": [
    "Обратите внимание, что в отличие от генератора арифметических прогрессий range, функция np.arange реально создаёт массив с числами в памяти! Значения в массиве можно менять."
   ]
  },
  {
   "cell_type": "code",
   "execution_count": 12,
   "id": "dac0a6cd",
   "metadata": {},
   "outputs": [],
   "source": [
    "A = np.arange(10)\n",
    "A[0] = 1000\n",
    "A[-1] = 999"
   ]
  },
  {
   "cell_type": "code",
   "execution_count": 13,
   "id": "f65cfaa9",
   "metadata": {},
   "outputs": [
    {
     "data": {
      "text/plain": [
       "array([1000,    1,    2,    3,    4,    5,    6,    7,    8,  999])"
      ]
     },
     "execution_count": 13,
     "metadata": {},
     "output_type": "execute_result"
    }
   ],
   "source": [
    "A"
   ]
  },
  {
   "cell_type": "markdown",
   "id": "2750f404",
   "metadata": {},
   "source": [
    "Если хотим указать количество элементов, а шаг пусть вычисляется автоматически, можно воспользоваться linspace:"
   ]
  },
  {
   "cell_type": "code",
   "execution_count": 14,
   "id": "0f3c5c89",
   "metadata": {},
   "outputs": [
    {
     "data": {
      "text/plain": [
       "array([ 0.  ,  1.25,  2.5 ,  3.75,  5.  ,  6.25,  7.5 ,  8.75, 10.  ])"
      ]
     },
     "execution_count": 14,
     "metadata": {},
     "output_type": "execute_result"
    }
   ],
   "source": [
    "np.linspace(0, 10, 9) # от 0 до 10, 9 точек"
   ]
  },
  {
   "cell_type": "markdown",
   "id": "cc15b24a",
   "metadata": {},
   "source": [
    "Первая граница при этом входит в набор чисел.\n",
    "\n",
    "Такой способ генерации массива очень удобен для последующего рисования графиков в указанном промежутке с заданным количеством точек."
   ]
  },
  {
   "cell_type": "markdown",
   "id": "32031845",
   "metadata": {},
   "source": [
    "## Векторные операции с массивами"
   ]
  },
  {
   "cell_type": "code",
   "execution_count": 15,
   "id": "802f1a12",
   "metadata": {},
   "outputs": [
    {
     "name": "stdout",
     "output_type": "stream",
     "text": [
      "[1, 2, 3, 4, 5, 1, 2, 3, 4, 5, 1, 2, 3, 4, 5, 1, 2, 3, 4, 5, 1, 2, 3, 4, 5]\n",
      "[ 5 10 15 20 25]\n"
     ]
    }
   ],
   "source": [
    "A = [1, 2, 3, 4, 5]\n",
    "B = A * 5\n",
    "print(B)\n",
    "\n",
    "A = np.arange(1, 6)\n",
    "B = A * 5 # Значение элементов домножены на 5\n",
    "print(B)"
   ]
  },
  {
   "cell_type": "code",
   "execution_count": 16,
   "id": "a3fa07ab",
   "metadata": {},
   "outputs": [
    {
     "data": {
      "text/plain": [
       "array([-0.95892427, -0.54402111,  0.65028784,  0.91294525, -0.13235175])"
      ]
     },
     "execution_count": 16,
     "metadata": {},
     "output_type": "execute_result"
    }
   ],
   "source": [
    "np.sin(B)"
   ]
  },
  {
   "cell_type": "code",
   "execution_count": 17,
   "id": "0c5790e7",
   "metadata": {},
   "outputs": [
    {
     "data": {
      "text/plain": [
       "array([1.48413159e+02, 2.20264658e+04, 3.26901737e+06, 4.85165195e+08,\n",
       "       7.20048993e+10])"
      ]
     },
     "execution_count": 17,
     "metadata": {},
     "output_type": "execute_result"
    }
   ],
   "source": [
    "np.exp(B) # Векторные операции с массивами"
   ]
  },
  {
   "cell_type": "code",
   "execution_count": 18,
   "id": "30fa7a83",
   "metadata": {},
   "outputs": [
    {
     "data": {
      "text/plain": [
       "array([ 5, 10, 15, 20, 25])"
      ]
     },
     "execution_count": 18,
     "metadata": {},
     "output_type": "execute_result"
    }
   ],
   "source": [
    "B"
   ]
  },
  {
   "cell_type": "code",
   "execution_count": 19,
   "id": "9913dac4",
   "metadata": {},
   "outputs": [
    {
     "data": {
      "text/plain": [
       "array([1.60943791, 2.30258509, 2.7080502 , 2.99573227, 3.21887582])"
      ]
     },
     "execution_count": 19,
     "metadata": {},
     "output_type": "execute_result"
    }
   ],
   "source": [
    "np.log(B)"
   ]
  },
  {
   "cell_type": "code",
   "execution_count": 20,
   "id": "25db6558",
   "metadata": {},
   "outputs": [],
   "source": [
    "x = np.linspace(-3*np.pi, +3*np.pi, 60)"
   ]
  },
  {
   "cell_type": "code",
   "execution_count": 21,
   "id": "d12171da",
   "metadata": {},
   "outputs": [
    {
     "data": {
      "text/plain": [
       "array([-9.42477796, -9.10529396, -8.78580996, -8.46632596, -8.14684197,\n",
       "       -7.82735797, -7.50787397, -7.18838997, -6.86890597, -6.54942197,\n",
       "       -6.22993797, -5.91045398, -5.59096998, -5.27148598, -4.95200198,\n",
       "       -4.63251798, -4.31303398, -3.99354998, -3.67406598, -3.35458199,\n",
       "       -3.03509799, -2.71561399, -2.39612999, -2.07664599, -1.75716199,\n",
       "       -1.43767799, -1.118194  , -0.79871   , -0.479226  , -0.159742  ,\n",
       "        0.159742  ,  0.479226  ,  0.79871   ,  1.118194  ,  1.43767799,\n",
       "        1.75716199,  2.07664599,  2.39612999,  2.71561399,  3.03509799,\n",
       "        3.35458199,  3.67406598,  3.99354998,  4.31303398,  4.63251798,\n",
       "        4.95200198,  5.27148598,  5.59096998,  5.91045398,  6.22993797,\n",
       "        6.54942197,  6.86890597,  7.18838997,  7.50787397,  7.82735797,\n",
       "        8.14684197,  8.46632596,  8.78580996,  9.10529396,  9.42477796])"
      ]
     },
     "execution_count": 21,
     "metadata": {},
     "output_type": "execute_result"
    }
   ],
   "source": [
    "x"
   ]
  },
  {
   "cell_type": "code",
   "execution_count": 22,
   "id": "c617aed8",
   "metadata": {},
   "outputs": [
    {
     "data": {
      "image/png": "[encoded data removed]",
      "text/plain": [
       "<Figure size 640x480 with 1 Axes>"
      ]
     },
     "metadata": {},
     "output_type": "display_data"
    }
   ],
   "source": [
    "x = np.linspace(-3*np.pi, +3*np.pi, 60)\n",
    "sin_x = np.sin(x)\n",
    "cos_x = np.cos(x)\n",
    "\n",
    "plt.plot(x,  sin_x, 'r--', x, cos_x, 'g--')\n",
    "plt.show()"
   ]
  },
  {
   "cell_type": "code",
   "execution_count": 23,
   "id": "ab152f4a",
   "metadata": {},
   "outputs": [
    {
     "name": "stdout",
     "output_type": "stream",
     "text": [
      "[0.2 0.7 1.2 1.7 2.2 2.7 3.2 3.7 4.2 4.7 5.2 5.7 6.2 6.7 7.2 7.7 8.2 8.7\n",
      " 9.2 9.7]\n"
     ]
    }
   ],
   "source": [
    "a = np.arange(0.2, 10.09, 0.5)\n",
    "print(a)"
   ]
  },
  {
   "cell_type": "markdown",
   "id": "827b2f02",
   "metadata": {},
   "source": [
    "## Срезы массивов NumPy"
   ]
  },
  {
   "cell_type": "markdown",
   "id": "3c1ecf02",
   "metadata": {},
   "source": [
    "Как и в случае обычных списков, большое значение для работы с numpy.array имеют срезы. Срезы позволяют нам составлять новый массив из старого по определённому условию на координаты. Синтаксис очень похож на срезы списков.\n",
    "\n",
    "Например, пусть мы хоти выбрать все значения массива. А, индексы которых находятся в диапазоне 3:8 (3 - включается, 8 - не включается)"
   ]
  },
  {
   "cell_type": "code",
   "execution_count": 24,
   "id": "0f52feb4",
   "metadata": {},
   "outputs": [
    {
     "name": "stdout",
     "output_type": "stream",
     "text": [
      "[ 0  1  2  3  4  5  6  7  8  9 10 11 12 13 14]\n"
     ]
    },
    {
     "data": {
      "text/plain": [
       "array([3, 4, 5, 6, 7])"
      ]
     },
     "execution_count": 24,
     "metadata": {},
     "output_type": "execute_result"
    }
   ],
   "source": [
    "A = np.arange(0, 15, 1)\n",
    "print(A)\n",
    "A[3:8]"
   ]
  },
  {
   "cell_type": "code",
   "execution_count": 25,
   "id": "ce7734ed",
   "metadata": {},
   "outputs": [
    {
     "data": {
      "text/plain": [
       "array([ 6,  8, 10, 12])"
      ]
     },
     "execution_count": 25,
     "metadata": {},
     "output_type": "execute_result"
    }
   ],
   "source": [
    "A[6:-1:2]"
   ]
  },
  {
   "cell_type": "code",
   "execution_count": 26,
   "id": "58c4b911",
   "metadata": {},
   "outputs": [
    {
     "data": {
      "text/plain": [
       "array([0, 1, 2, 3, 4])"
      ]
     },
     "execution_count": 26,
     "metadata": {},
     "output_type": "execute_result"
    }
   ],
   "source": [
    "A[:-10:]"
   ]
  },
  {
   "cell_type": "code",
   "execution_count": 27,
   "id": "9cc5b1da",
   "metadata": {},
   "outputs": [
    {
     "data": {
      "text/plain": [
       "array([], dtype=int32)"
      ]
     },
     "execution_count": 27,
     "metadata": {},
     "output_type": "execute_result"
    }
   ],
   "source": [
    "A[-8:-6:-1]"
   ]
  },
  {
   "cell_type": "markdown",
   "id": "70ef9172",
   "metadata": {},
   "source": [
    "В отличие от пустых списков, пустые массивы NumPy юессмысленны: в них нельзя\n",
    "добавить новые элементы. Метода append для них не существует!\n",
    "\n",
    "Выберем из массива А вторую треть, а из неё - каждый второй элемент"
   ]
  },
  {
   "cell_type": "code",
   "execution_count": 30,
   "id": "9907c218",
   "metadata": {},
   "outputs": [],
   "source": [
    "start = int(len(A)/3)\n",
    "stop = -start"
   ]
  },
  {
   "cell_type": "markdown",
   "id": "04c6cca0",
   "metadata": {},
   "source": [
    "### Присваивание в срез\n",
    "\n",
    "Как и в случае со списками, для np.array существует механизм присваивания в срез.\n",
    "\n",
    "Элементы массива, выделенные при помощи среза, можно изменять присваиванием. При этом присваивать можно элементы другого массива аналогичной формы или константу.\n",
    "\n",
    "Присвоим каждому второму элементу А значение 0."
   ]
  },
  {
   "cell_type": "code",
   "execution_count": 31,
   "id": "d26c5d52",
   "metadata": {},
   "outputs": [
    {
     "data": {
      "text/plain": [
       "array([ 0,  1,  0,  3,  0,  5,  0,  7,  0,  9,  0, 11,  0, 13,  0])"
      ]
     },
     "execution_count": 31,
     "metadata": {},
     "output_type": "execute_result"
    }
   ],
   "source": [
    "A[::2] = 0\n",
    "A"
   ]
  },
  {
   "cell_type": "code",
   "execution_count": 32,
   "id": "1d5af12a",
   "metadata": {},
   "outputs": [],
   "source": [
    "A[2:-2:2] = np.mean(A)"
   ]
  },
  {
   "cell_type": "code",
   "execution_count": 33,
   "id": "915d555b",
   "metadata": {},
   "outputs": [
    {
     "data": {
      "text/plain": [
       "array([ 0,  1,  3,  3,  3,  5,  3,  7,  3,  9,  3, 11,  3, 13,  0])"
      ]
     },
     "execution_count": 33,
     "metadata": {},
     "output_type": "execute_result"
    }
   ],
   "source": [
    "A"
   ]
  },
  {
   "cell_type": "code",
   "execution_count": 34,
   "id": "0f0a6e2d",
   "metadata": {},
   "outputs": [],
   "source": [
    "x = np.arange(0, len(A))"
   ]
  },
  {
   "cell_type": "code",
   "execution_count": 35,
   "id": "773acb21",
   "metadata": {},
   "outputs": [
    {
     "data": {
      "text/plain": [
       "array([ 0,  1,  2,  3,  4,  5,  6,  7,  8,  9, 10, 11, 12, 13, 14])"
      ]
     },
     "execution_count": 35,
     "metadata": {},
     "output_type": "execute_result"
    }
   ],
   "source": [
    "x"
   ]
  },
  {
   "cell_type": "code",
   "execution_count": 37,
   "id": "1c371df7",
   "metadata": {},
   "outputs": [
    {
     "data": {
      "image/png": "[encoded data removed]",
      "text/plain": [
       "<Figure size 640x480 with 1 Axes>"
      ]
     },
     "metadata": {},
     "output_type": "display_data"
    }
   ],
   "source": [
    "plt.plot(x, A, 'r')\n",
    "plt.show()"
   ]
  },
  {
   "cell_type": "code",
   "execution_count": 38,
   "id": "fe2a20fd",
   "metadata": {},
   "outputs": [],
   "source": [
    "A[:-2:2] = A[-2:0:-2]"
   ]
  },
  {
   "cell_type": "markdown",
   "id": "958aac4b",
   "metadata": {},
   "source": [
    "Присвоить в срез можно, например, другой срез. Заменим теперь все нули развёрнутым массивом из ненулевых элементов."
   ]
  },
  {
   "cell_type": "code",
   "execution_count": 39,
   "id": "58897afa",
   "metadata": {},
   "outputs": [
    {
     "data": {
      "text/plain": [
       "array([13,  1, 11,  3,  9,  5,  7,  7,  5,  9,  3, 11,  1, 13,  0])"
      ]
     },
     "execution_count": 39,
     "metadata": {},
     "output_type": "execute_result"
    }
   ],
   "source": [
    "A"
   ]
  },
  {
   "cell_type": "markdown",
   "id": "cac0c87e",
   "metadata": {},
   "source": [
    "Или же присвоить какую - то константу, скажем, усреднить:\n",
    "\n",
    "Присвоим каждому второму элементу массива А из диапазона индексов 2: -2 среднее значение элементов массива, воспользовавщись функцией поиска среднего np.mean(array)"
   ]
  },
  {
   "cell_type": "code",
   "execution_count": 41,
   "id": "224b8451",
   "metadata": {},
   "outputs": [
    {
     "name": "stdout",
     "output_type": "stream",
     "text": [
      "6.533333333333333\n",
      "<class 'numpy.float64'>\n",
      "12\n"
     ]
    }
   ],
   "source": [
    "A[2:-2:2] = np.mean(A)\n",
    "print(np.mean(A))\n",
    "print(type(np.mean(A)))\n",
    "print(12)"
   ]
  },
  {
   "cell_type": "code",
   "execution_count": 42,
   "id": "ea173010",
   "metadata": {},
   "outputs": [
    {
     "data": {
      "text/plain": [
       "array([13,  1,  6,  3,  6,  5,  6,  7,  6,  9,  6, 11,  6, 13,  0])"
      ]
     },
     "execution_count": 42,
     "metadata": {},
     "output_type": "execute_result"
    }
   ],
   "source": [
    "A"
   ]
  },
  {
   "cell_type": "code",
   "execution_count": 43,
   "id": "bf329afa",
   "metadata": {},
   "outputs": [
    {
     "data": {
      "text/plain": [
       "array([13,  1,  6,  3,  6,  5,  6,  7,  6,  9,  6, 11,  6, 13,  0])"
      ]
     },
     "execution_count": 43,
     "metadata": {},
     "output_type": "execute_result"
    }
   ],
   "source": [
    "A[2:-2:2] = np.mean(A)\n",
    "A"
   ]
  },
  {
   "cell_type": "code",
   "execution_count": 44,
   "id": "11eea4fb",
   "metadata": {},
   "outputs": [],
   "source": [
    "np.random.seed(0)"
   ]
  },
  {
   "cell_type": "code",
   "execution_count": 45,
   "id": "a56dd54e",
   "metadata": {},
   "outputs": [],
   "source": [
    "data = np.random.randn(1000)"
   ]
  },
  {
   "cell_type": "code",
   "execution_count": 49,
   "id": "d16e0d7b",
   "metadata": {},
   "outputs": [
    {
     "data": {
      "image/png": "[encoded data removed]",
      "text/plain": [
       "<Figure size 640x480 with 1 Axes>"
      ]
     },
     "metadata": {},
     "output_type": "display_data"
    }
   ],
   "source": [
    "plt.hist(data, bins=30, density=True, alpha=0.7, color='blue')\n",
    "# plt.grid(True)\n",
    "plt.show()"
   ]
  },
  {
   "cell_type": "code",
   "execution_count": null,
   "id": "e268dd94",
   "metadata": {},
   "outputs": [],
   "source": []
  },
  {
   "cell_type": "code",
   "execution_count": null,
   "id": "4f1c07b0",
   "metadata": {},
   "outputs": [],
   "source": []
  },
  {
   "cell_type": "code",
   "execution_count": null,
   "id": "9489f021",
   "metadata": {},
   "outputs": [],
   "source": []
  }
 ],
 "metadata": {
  "kernelspec": {
   "display_name": "Python 3 (ipykernel)",
   "language": "python",
   "name": "python3"
  },
  "language_info": {
   "codemirror_mode": {
    "name": "ipython",
    "version": 3
   },
   "file_extension": ".py",
   "mimetype": "text/x-python",
   "name": "python",
   "nbconvert_exporter": "python",
   "pygments_lexer": "ipython3",
   "version": "3.11.3"
  }
 },
 "nbformat": 4,
 "nbformat_minor": 5
}
